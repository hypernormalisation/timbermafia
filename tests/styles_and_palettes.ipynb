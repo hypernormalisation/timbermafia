{
 "cells": [
  {
   "cell_type": "markdown",
   "metadata": {},
   "source": [
    "# Timbermafia styles and palettes\n",
    "\n",
    "In this notebook we will first demonstrate the pre-packaged styles and palettes.\n",
    "\n",
    "We will then describe what a style and palette can do in timbermafia, and create custom\n",
    "\n",
    "versions of each of these and show how to have timbermafia use them in its configuration.\n",
    "\n",
    "## Preset styles\n",
    "\n",
    "The preset styles can be seen with the following:"
   ]
  },
  {
   "cell_type": "code",
   "execution_count": 1,
   "metadata": {},
   "outputs": [
    {
     "name": "stdout",
     "output_type": "stream",
     "text": [
      "- Preset styles:\n",
      "       default - Default style for timbermafia.\n",
      "    minimalist - Display only the time and message, good for verbose log messages.\n",
      "       compact - Give lots of log record information in a small space.\n",
      "          boxy - A detailed, boxy looking output fit to the terminal.\n",
      "         plain - A style emulating vanilla logging.\n"
     ]
    }
   ],
   "source": [
    "import logging\n",
    "log = logging.getLogger('mylog')\n",
    "\n",
    "import timbermafia as tm\n",
    "tm.print_styles()"
   ]
  },
  {
   "cell_type": "markdown",
   "metadata": {},
   "source": [
    "Now let's print out some example output with each style.\n",
    "\n",
    "Note that the \"plain\" style does not leverage many of the timbermafia features, which can be \n",
    "\n",
    "useful in configuring a custom style from a very bare-bones style (see later), or just comparing\n",
    "\n",
    "how more simple logging solutions perform."
   ]
  },
  {
   "cell_type": "code",
   "execution_count": 2,
   "metadata": {},
   "outputs": [
    {
     "name": "stdout",
     "output_type": "stream",
     "text": [
      "- Using style: default\n",
      "\n",
      "\u001b[38;5;255m\u001b[0m\u001b[38;5;255m\u001b[4m07:40:10\u001b[0m\u001b[38;5;255m |     INFO |  mylog.print_samples >> \u001b[0m\u001b[38;5;255m\u001b[38;5;15mINFO level output looks like this.\u001b[0m\u001b[38;5;255m                    \u001b[0m\n",
      "\u001b[38;5;33m\u001b[0m\u001b[38;5;33m\u001b[4m07:40:10\u001b[0m\u001b[38;5;33m |    DEBUG |  mylog.print_samples >> \u001b[0m\u001b[38;5;33m\u001b[38;5;15mDEBUG level output looks like this.\u001b[0m\u001b[38;5;33m                   \u001b[0m\n",
      "\u001b[38;5;214m\u001b[0m\u001b[38;5;214m\u001b[4m07:40:10\u001b[0m\u001b[38;5;214m |  WARNING |  mylog.print_samples >> \u001b[0m\u001b[38;5;214m\u001b[38;5;15mWARNING level output looks like this.\u001b[0m\u001b[38;5;214m                 \u001b[0m\n",
      "\u001b[38;5;196m\u001b[1m\u001b[0m\u001b[38;5;196m\u001b[1m\u001b[4m07:40:10\u001b[0m\u001b[38;5;196m\u001b[1m |    ERROR |  mylog.print_samples >> \u001b[0m\u001b[38;5;196m\u001b[1m\u001b[38;5;15mERROR level output looks like this.\u001b[0m\u001b[38;5;196m\u001b[1m                   \u001b[0m\n",
      "\u001b[38;5;40m\u001b[48;5;52m\u001b[1m\u001b[0m\u001b[38;5;40m\u001b[48;5;52m\u001b[1m\u001b[4m07:40:10\u001b[0m\u001b[38;5;40m\u001b[48;5;52m\u001b[1m | CRITICAL |  mylog.print_samples >> \u001b[0m\u001b[38;5;40m\u001b[48;5;52m\u001b[1m\u001b[38;5;15mCRITICAL level output looks like this.\u001b[0m\u001b[38;5;40m\u001b[48;5;52m\u001b[1m                \u001b[0m\n",
      "\u001b[38;5;255m\u001b[0m\u001b[38;5;255m\u001b[4m07:40:10\u001b[0m\u001b[38;5;255m |     INFO |  mylog.print_samples >> \u001b[0m\u001b[38;5;255m\u001b[38;5;15mHere is a very long message that probably will not fit\u001b[0m\u001b[38;5;255m\u001b[0m\n",
      "\u001b[38;5;255m                                           >> \u001b[0m\u001b[38;5;255m\u001b[38;5;15mon a single line. We will use it to demonstrate what\u001b[0m\u001b[38;5;255m  \u001b[0m\n",
      "\u001b[38;5;255m                                           >> \u001b[0m\u001b[38;5;255m\u001b[38;5;15mmulti-line output looks like in each style.\u001b[0m\u001b[38;5;255m           \u001b[0m\n",
      "\u001b[38;5;255m\u001b[0m\u001b[38;5;255m\u001b[4m07:40:10\u001b[0m\u001b[38;5;255m |     INFO |         mylog.status >> \u001b[0m\u001b[38;5;255m\u001b[38;5;15mSome output from method \"status\" in class \"SomeClass\".\u001b[0m\u001b[38;5;255m\u001b[0m\n",
      "\u001b[38;5;255m\u001b[0m\u001b[38;5;255m\u001b[4m07:40:10\u001b[0m\u001b[38;5;255m |     INFO | …very_very_long_name >> \u001b[0m\u001b[38;5;255m\u001b[38;5;15mOutput from a function with a long name to demonstrate\u001b[0m\u001b[38;5;255m\u001b[0m\n",
      "\u001b[38;5;255m                                           >> \u001b[0m\u001b[38;5;255m\u001b[38;5;15mtruncation or multiline, depending on the style.\u001b[0m\u001b[38;5;255m      \u001b[0m\n",
      "\n",
      "****************************************************************************************************\n",
      "- Using style: minimalist\n",
      "\n",
      "\u001b[38;5;255m07:40:10 | INFO level output looks like this.                                   \u001b[0m\n",
      "\u001b[38;5;33m07:40:10 | DEBUG level output looks like this.                                  \u001b[0m\n",
      "\u001b[38;5;214m07:40:10 | WARNING level output looks like this.                                \u001b[0m\n",
      "\u001b[38;5;196m\u001b[1m07:40:10 | ERROR level output looks like this.                                  \u001b[0m\n",
      "\u001b[38;5;40m\u001b[48;5;52m\u001b[1m07:40:10 | CRITICAL level output looks like this.                               \u001b[0m\n",
      "\u001b[38;5;255m07:40:10 | Here is a very long message that probably will not fit on a single   \u001b[0m\n",
      "\u001b[38;5;255m           line. We will use it to demonstrate what multi-line output looks like\u001b[0m\n",
      "\u001b[38;5;255m           in each style.                                                       \u001b[0m\n",
      "\u001b[38;5;255m07:40:10 | Some output from method \"status\" in class \"SomeClass\".               \u001b[0m\n",
      "\u001b[38;5;255m07:40:10 | Output from a function with a long name to demonstrate truncation or \u001b[0m\n",
      "\u001b[38;5;255m           multiline, depending on the style.                                   \u001b[0m\n",
      "\n",
      "****************************************************************************************************\n",
      "- Using style: compact\n",
      "\n",
      "\u001b[38;5;255m07:40:10  I     mylog.print_samples  INFO level output looks like this.                             \u001b[0m\n",
      "\u001b[38;5;33m07:40:10  D     mylog.print_samples  DEBUG level output looks like this.                            \u001b[0m\n",
      "\u001b[38;5;214m07:40:10  W     mylog.print_samples  WARNING level output looks like this.                          \u001b[0m\n",
      "\u001b[38;5;196m\u001b[1m07:40:10  E     mylog.print_samples  ERROR level output looks like this.                            \u001b[0m\n",
      "\u001b[38;5;40m\u001b[48;5;52m\u001b[1m07:40:10  C     mylog.print_samples  CRITICAL level output looks like this.                         \u001b[0m\n",
      "\u001b[38;5;255m07:40:10  I     mylog.print_samples  Here is a very long message that probably will not fit on a    \u001b[0m\n",
      "\u001b[38;5;255m                                     single line. We will use it to demonstrate what multi-line     \u001b[0m\n",
      "\u001b[38;5;255m                                     output looks like in each style.                               \u001b[0m\n",
      "\u001b[38;5;255m07:40:10  I            mylog.status  Some output from method \"status\" in class \"SomeClass\".         \u001b[0m\n",
      "\u001b[38;5;255m07:40:10  I  …a_very_very_long_name  Output from a function with a long name to demonstrate         \u001b[0m\n",
      "\u001b[38;5;255m                                     truncation or multiline, depending on the style.               \u001b[0m\n",
      "\n",
      "****************************************************************************************************\n",
      "- Using style: boxy\n",
      "\n",
      "\u001b[38;5;255m| \u001b[0m\u001b[38;5;255m\u001b[4m07:40:10\u001b[0m\u001b[38;5;255m |     INFO |     mylog | print_sa | INFO level output looks like this.                  |\u001b[0m\n",
      "\u001b[38;5;255m|          |          |           |    mples |                                                     |\u001b[0m\n",
      "\u001b[38;5;33m| \u001b[0m\u001b[38;5;33m\u001b[4m07:40:10\u001b[0m\u001b[38;5;33m |    DEBUG |     mylog | print_sa | DEBUG level output looks like this.                 |\u001b[0m\n",
      "\u001b[38;5;33m|          |          |           |    mples |                                                     |\u001b[0m\n",
      "\u001b[38;5;214m| \u001b[0m\u001b[38;5;214m\u001b[4m07:40:10\u001b[0m\u001b[38;5;214m |  WARNING |     mylog | print_sa | WARNING level output looks like this.               |\u001b[0m\n",
      "\u001b[38;5;214m|          |          |           |    mples |                                                     |\u001b[0m\n",
      "\u001b[38;5;196m\u001b[1m| \u001b[0m\u001b[38;5;196m\u001b[1m\u001b[4m07:40:10\u001b[0m\u001b[38;5;196m\u001b[1m |    ERROR |     mylog | print_sa | ERROR level output looks like this.                 |\u001b[0m\n",
      "\u001b[38;5;196m\u001b[1m|          |          |           |    mples |                                                     |\u001b[0m\n",
      "\u001b[38;5;40m\u001b[48;5;52m\u001b[1m| \u001b[0m\u001b[38;5;40m\u001b[48;5;52m\u001b[1m\u001b[4m07:40:10\u001b[0m\u001b[38;5;40m\u001b[48;5;52m\u001b[1m | CRITICAL |     mylog | print_sa | CRITICAL level output looks like this.              |\u001b[0m\n",
      "\u001b[38;5;40m\u001b[48;5;52m\u001b[1m|          |          |           |    mples |                                                     |\u001b[0m\n",
      "\u001b[38;5;255m| \u001b[0m\u001b[38;5;255m\u001b[4m07:40:10\u001b[0m\u001b[38;5;255m |     INFO |     mylog | print_sa | Here is a very long message that probably will not  |\u001b[0m\n",
      "\u001b[38;5;255m|          |          |           |    mples | fit on a single line. We will use it to demonstrate |\u001b[0m\n",
      "\u001b[38;5;255m|          |          |           |          | what multi-line output looks like in each style.    |\u001b[0m\n",
      "\u001b[38;5;255m| \u001b[0m\u001b[38;5;255m\u001b[4m07:40:10\u001b[0m\u001b[38;5;255m |     INFO |     mylog |   status | Some output from method \"status\" in class           |\u001b[0m\n",
      "\u001b[38;5;255m|          |          |           |          | \"SomeClass\".                                        |\u001b[0m\n",
      "\u001b[38;5;255m| \u001b[0m\u001b[38;5;255m\u001b[4m07:40:10\u001b[0m\u001b[38;5;255m |     INFO |     mylog | method_w | Output from a function with a long name to          |\u001b[0m\n",
      "\u001b[38;5;255m|          |          |           | ith_a_ve | demonstrate truncation or multiline, depending on   |\u001b[0m\n",
      "\u001b[38;5;255m|          |          |           | ry_very_ | the style.                                          |\u001b[0m\n",
      "\u001b[38;5;255m|          |          |           | long_nam |                                                     |\u001b[0m\n",
      "\u001b[38;5;255m|          |          |           |        e |                                                     |\u001b[0m\n",
      "\n",
      "****************************************************************************************************\n",
      "- Using style: plain\n",
      "\n",
      "07:40:10 mylog > INFO level output looks like this.                                                 \n",
      "07:40:10 mylog > DEBUG level output looks like this.                                                \n",
      "07:40:10 mylog > WARNING level output looks like this.                                              \n",
      "07:40:10 mylog > ERROR level output looks like this.                                                \n",
      "07:40:10 mylog > CRITICAL level output looks like this.                                             \n",
      "07:40:10 mylog > Here is a very long message that probably will not fit on a single line. We will   \n",
      "use it to demonstrate what multi-line output looks like in each style.                              \n"
     ]
    },
    {
     "name": "stdout",
     "output_type": "stream",
     "text": [
      "07:40:10 mylog > Some output from method \"status\" in class \"SomeClass\".                             \n",
      "07:40:10 mylog > Output from a function with a long name to demonstrate truncation or multiline,    \n",
      "depending on the style.                                                                             \n",
      "\n",
      "****************************************************************************************************\n"
     ]
    }
   ],
   "source": [
    "long_message = ('Here is a very long message that probably will not fit on a single line. We will use '\n",
    "                'it to demonstrate what multi-line output looks like in each style.')\n",
    "                \n",
    "def print_samples():\n",
    "    log.info('INFO level output looks like this.')\n",
    "    log.debug('DEBUG level output looks like this.')\n",
    "    log.warning('WARNING level output looks like this.')\n",
    "    log.error('ERROR level output looks like this.')\n",
    "    log.fatal('CRITICAL level output looks like this.')\n",
    "    log.info(long_message)\n",
    "    \n",
    "class SomeClass(tm.Logged):\n",
    "    \"\"\"A class to demonstrate logging from mixin loggers, which provide context\n",
    "    on what class and method called the output.\"\"\"\n",
    "    def status(self):\n",
    "        log.info('Some output from method \"status\" in class \"SomeClass\".')\n",
    "    def method_with_a_very_very_long_name(self):\n",
    "        log.info('Output from a function with a long name to demonstrate truncation or multiline, depending on the style.')\n",
    "\n",
    "s = SomeClass()\n",
    "def demo():\n",
    "    print_samples()\n",
    "    s.status()\n",
    "    s.method_with_a_very_very_long_name()\n",
    "        \n",
    "# Iterate over each style, configure timbermafia with that style, and print output.\n",
    "for my_style in tm.styles.style_map:\n",
    "    print(f'- Using style: {my_style}\\n')\n",
    "    # Clear the configured handlers each time, and disable fit_to_terminal in each style\n",
    "    # because Jupyter notebooks don't work well with this feature.\n",
    "    tm.basic_config(style=my_style, clear=True, silent=True, fit_to_terminal=False)\n",
    "    demo()\n",
    "    print()\n",
    "    print('*'*100)"
   ]
  },
  {
   "cell_type": "code",
   "execution_count": null,
   "metadata": {},
   "outputs": [],
   "source": []
  },
  {
   "cell_type": "code",
   "execution_count": null,
   "metadata": {},
   "outputs": [],
   "source": []
  },
  {
   "cell_type": "code",
   "execution_count": null,
   "metadata": {},
   "outputs": [],
   "source": []
  },
  {
   "cell_type": "code",
   "execution_count": null,
   "metadata": {},
   "outputs": [],
   "source": []
  },
  {
   "cell_type": "code",
   "execution_count": null,
   "metadata": {},
   "outputs": [],
   "source": []
  },
  {
   "cell_type": "code",
   "execution_count": null,
   "metadata": {},
   "outputs": [],
   "source": []
  }
 ],
 "metadata": {
  "kernelspec": {
   "display_name": "timbermafia",
   "language": "python",
   "name": "timbermafia"
  },
  "language_info": {
   "codemirror_mode": {
    "name": "ipython",
    "version": 3
   },
   "file_extension": ".py",
   "mimetype": "text/x-python",
   "name": "python",
   "nbconvert_exporter": "python",
   "pygments_lexer": "ipython3",
   "version": "3.8.1"
  }
 },
 "nbformat": 4,
 "nbformat_minor": 2
}
