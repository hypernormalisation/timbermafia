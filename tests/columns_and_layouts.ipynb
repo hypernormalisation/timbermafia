{
 "cells": [
  {
   "cell_type": "code",
   "execution_count": 1,
   "metadata": {},
   "outputs": [],
   "source": [
    "import logging, sys, os, re\n",
    "sys.path.append('/home/sogilvy/repos/timbermafia/tests')\n",
    "from columntests import TMString"
   ]
  },
  {
   "cell_type": "code",
   "execution_count": 2,
   "metadata": {},
   "outputs": [],
   "source": [
    "def transform_record(record):\n",
    "    new_d = {}\n",
    "    for key, value in record.__dict__.items():\n",
    "        if isinstance(value, str):\n",
    "            new_d[key] = TMString(value)\n",
    "    record.__dict__.update(new_d)\n",
    "\n",
    "class MyFormatter(logging.Formatter):\n",
    "#     def __init__(self, *args, **kwargs):\n",
    "#         pass\n",
    "    \n",
    "    def format(self, record):\n",
    "        # Convert the message string to an TMString with enhanced fmt_spec\n",
    "        record.message = TMString(record.getMessage())\n",
    "        \n",
    "        # Convert the formatted ascitime string to an TMString with enhanced fmt_spec\n",
    "        if self.usesTime():\n",
    "            record.asctime = TMString(self.formatTime(record, self.datefmt))\n",
    "        \n",
    "        # Convert any other miscellanous records\n",
    "        transform_record(record)\n",
    "        \n",
    "        s = self.formatMessage(record)\n",
    "        if record.exc_info:\n",
    "            if not record.exc_text:\n",
    "                record.exc_text = self.formatException(record.exc_info)\n",
    "        if record.exc_text:\n",
    "            if s[-1:] != \"\\n\":\n",
    "                s = s + \"\\n\"\n",
    "            s = s + record.exc_text\n",
    "        if record.stack_info:\n",
    "            if s[-1:] != \"\\n\":\n",
    "                s = s + \"\\n\"\n",
    "            s = s + self.formatStack(record.stack_info)\n",
    "        return s"
   ]
  },
  {
   "cell_type": "code",
   "execution_count": 3,
   "metadata": {},
   "outputs": [],
   "source": [
    "from timbermafia.rainbow import RainbowStreamHandler\n",
    "h = RainbowStreamHandler()\n",
    "f = MyFormatter('{asctime:u} _| {levelname} _| {name:>50}.{funcName:>69} __>> {message:b}', '%H:%M:%S', style='{', validate=False)\n",
    "h.setFormatter(f)\n",
    "l = logging.getLogger(__name__)\n",
    "l.addHandler(h)\n",
    "l.setLevel(logging.DEBUG)"
   ]
  },
  {
   "cell_type": "code",
   "execution_count": 4,
   "metadata": {},
   "outputs": [
    {
     "name": "stdout",
     "output_type": "stream",
     "text": [
      "20\n",
      "['\\x1b[38;5;255m\\x1b[4m12:57:24\\x1b[0m', '_|', 'INFO\\x1b[0m', '_|', '\\x1b[38;5;50m__main__\\x1b[0m.\\x1b[38;5;69mtest_log\\x1b[0m', '__>>', '\\x1b[1mI', 'have', 'some', 'big,', 'big', 'news', 'for', 'you,', 'hence', 'this', 'text', 'is', 'bold\\x1b[0m\\x1b[0m']\n",
      "\u001b[38;5;255m\u001b[4m12:57:24\u001b[0m _| INFO\u001b[0m _| \u001b[38;5;50m__main__\u001b[0m.\u001b[38;5;69mtest_log\u001b[0m __>> \u001b[1mI have some big, big news for you, hence this text is bold\u001b[0m\u001b[0m\n",
      "10\n",
      "['\\x1b[38;5;33m\\x1b[4m12:57:24\\x1b[0m', '_|', 'DEBUG\\x1b[0m', '_|', '\\x1b[38;5;50m__main__\\x1b[0m.\\x1b[38;5;69mtest_log\\x1b[0m', '__>>', '\\x1b[1msome', 'debug', 'info', 'for', 'you', 'there', 'chief\\x1b[0m\\x1b[0m']\n",
      "\u001b[38;5;33m\u001b[4m12:57:24\u001b[0m _| DEBUG\u001b[0m _| \u001b[38;5;50m__main__\u001b[0m.\u001b[38;5;69mtest_log\u001b[0m __>> \u001b[1msome debug info for you there chief\u001b[0m\u001b[0m\n"
     ]
    }
   ],
   "source": [
    "def test_log():\n",
    "    l.info('I have some big, big news for you, hence this text is bold')\n",
    "    l.debug('some debug info for you there chief')\n",
    "test_log()"
   ]
  },
  {
   "cell_type": "code",
   "execution_count": 5,
   "metadata": {},
   "outputs": [
    {
     "data": {
      "text/plain": [
       "['>> ',\n",
       " '{asctime:u} ',\n",
       " '{levelname} ',\n",
       " '{name:>50}.{funcName:>69} ',\n",
       " ' {message:b}']"
      ]
     },
     "execution_count": 5,
     "metadata": {},
     "output_type": "execute_result"
    },
    {
     "data": {
      "text/plain": [
       "['_| ', '_| ', '_| ', '__>>']"
      ]
     },
     "execution_count": 5,
     "metadata": {},
     "output_type": "execute_result"
    }
   ],
   "source": [
    "test = '>> _| {asctime:u} _| {levelname} _| {name:>50}.{funcName:>69} __>> {message:b}'\n",
    "pattern = '_{1,2}\\W{1,2}'\n",
    "\n",
    "re.split(pattern, test)\n",
    "re.findall(pattern, test)"
   ]
  },
  {
   "cell_type": "code",
   "execution_count": 6,
   "metadata": {},
   "outputs": [
    {
     "data": {
      "text/plain": [
       "'_{1,2}\\\\W{1,2}.*?_{1,2}\\\\W{1,2}|^.*?_{1,2}\\\\W{1,2}|_{1,2}\\\\W{1,2}.*?$'"
      ]
     },
     "execution_count": 6,
     "metadata": {},
     "output_type": "execute_result"
    }
   ],
   "source": [
    "p = f'{pattern}.*?{pattern}|^.*?{pattern}|{pattern}.*?$'\n",
    "p"
   ]
  },
  {
   "cell_type": "code",
   "execution_count": 7,
   "metadata": {},
   "outputs": [
    {
     "data": {
      "text/plain": [
       "['>> _| ', '_| {levelname} _| ', '__>> {message:b}']"
      ]
     },
     "execution_count": 7,
     "metadata": {},
     "output_type": "execute_result"
    }
   ],
   "source": [
    "re.findall(p, test)\n",
    "# i = re.finditer(p, test)\n",
    "# m = i.__next__()"
   ]
  },
  {
   "cell_type": "code",
   "execution_count": 8,
   "metadata": {},
   "outputs": [
    {
     "data": {
      "text/plain": [
       "'s _ {asctime:u} _ level: {levelname:>80} _ {name}.{funcName} _ {message}'"
      ]
     },
     "execution_count": 8,
     "metadata": {},
     "output_type": "execute_result"
    },
    {
     "data": {
      "text/plain": [
       "{1: {'contents': ' {asctime:u} '},\n",
       " 2: {'contents': ' level: {levelname:>80} '},\n",
       " 3: {'contents': ' {name}.{funcName} '},\n",
       " 4: {'contents': ' {message}'}}"
      ]
     },
     "execution_count": 8,
     "metadata": {},
     "output_type": "execute_result"
    },
    {
     "data": {
      "text/plain": [
       "'s _|1_|2_3__>>4'"
      ]
     },
     "execution_count": 8,
     "metadata": {},
     "output_type": "execute_result"
    },
    {
     "data": {
      "text/plain": [
       "{1: {'contents': ' {asctime:u} ', 'fields': ['asctime']},\n",
       " 2: {'contents': ' level: {levelname:>80} ', 'fields': ['levelname']},\n",
       " 3: {'contents': ' {name}.{funcName} ', 'fields': ['name', 'funcName']},\n",
       " 4: {'contents': ' {message}', 'fields': ['message']}}"
      ]
     },
     "execution_count": 8,
     "metadata": {},
     "output_type": "execute_result"
    }
   ],
   "source": [
    "sep = '_{1,2}\\S+|_{1,2}' # separator pattern\n",
    "text = 's _| {asctime:u} _| level: {levelname:>80} _ {name}.{funcName} __>> {message}'\n",
    "\n",
    "# Negative lookbehind needs fixed length, but separators vary.\n",
    "# Take advantage of the fact that whatever escapes the\n",
    "# separator tags is explicitly not in the rest of the format string.\n",
    "# In this case, '_'\n",
    "partial_text = re.sub(sep, '_', text)\n",
    "partial_text\n",
    "\n",
    "csp = '.*\\{\\w+(:\\S+)?\\}.*' # column sub pattern {name} {message:>71,b}\n",
    "\n",
    "parts = partial_text.split('_')\n",
    "column_dict = {k: {'contents': v} for k, v in enumerate(parts) if re.match(csp, v)}\n",
    "\n",
    "column_dict\n",
    "\n",
    "ntext = text\n",
    "for i, d in column_dict.items():\n",
    "    s = d['contents']\n",
    "    ntext = ntext.replace(s, str(i))\n",
    "ntext\n",
    "\n",
    "csp2 = '\\{\\S+?\\}'\n",
    "\n",
    "for k, d in column_dict.items():\n",
    "    s = d['contents']\n",
    "    d['fields'] = re.findall('(?<=\\{)[a-zA-Z]+(?=[\\}:])', s)\n",
    "    \n",
    "column_dict"
   ]
  },
  {
   "cell_type": "code",
   "execution_count": null,
   "metadata": {},
   "outputs": [],
   "source": []
  }
 ],
 "metadata": {
  "kernelspec": {
   "display_name": "timbermafia",
   "language": "python",
   "name": "timbermafia"
  },
  "language_info": {
   "codemirror_mode": {
    "name": "ipython",
    "version": 3
   },
   "file_extension": ".py",
   "mimetype": "text/x-python",
   "name": "python",
   "nbconvert_exporter": "python",
   "pygments_lexer": "ipython3",
   "version": "3.8.1"
  }
 },
 "nbformat": 4,
 "nbformat_minor": 2
}
