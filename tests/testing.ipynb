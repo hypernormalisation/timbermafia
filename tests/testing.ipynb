{
 "cells": [
  {
   "cell_type": "code",
   "execution_count": 1,
   "metadata": {},
   "outputs": [],
   "source": [
    "import timbermafia\n",
    "import logging\n",
    "import sys\n",
    "lorem = \"Lorem ipsum dolor sit amet, consectetur adipiscing elit, sed do eiusmod tempor incididunt ut labore et dolore magna aliqua. Ut enim ad minim veniam, quis nostrud exercitation ullamco laboris nisi ut aliquip ex ea commodo consequat. Duis aute irure dolor in reprehenderit in voluptate velit esse cillum dolore eu fugiat nulla pariatur. Excepteur sint occaecat cupidatat non proident, sunt in culpa qui officia deserunt mollit anim id est laborum.\""
   ]
  },
  {
   "cell_type": "code",
   "execution_count": 2,
   "metadata": {},
   "outputs": [],
   "source": [
    "timbermafia.configure(bold=False, format='{asctime} | {levelname} | {name}.{funcName} | {message}')\n",
    "timbermafia.add_handler(stream=sys.stdout)\n",
    "\n",
    "# timbermafia.configure(columns=180, bold=True, format='{asctime} | {name}.{funcName} | {message}')\n",
    "# timbermafia.add_handler(stream=sys.stdout)\n",
    "\n",
    "log = logging.getLogger('testing')\n",
    "def test_log_with_a_very_long_name():\n",
    "    log.debug('test from func')"
   ]
  },
  {
   "cell_type": "code",
   "execution_count": 3,
   "metadata": {},
   "outputs": [
    {
     "name": "stderr",
     "output_type": "stream",
     "text": [
      "\u001b[38;5;255m----------------------------------------------------------------------------------------------------------------------------------------------------------\u001b[0m\n",
      "\u001b[38;5;255m|                                                                  Timbermafia testing                                                                   |\u001b[0m\n",
      "\u001b[38;5;255m----------------------------------------------------------------------------------------------------------------------------------------------------------\u001b[0m\n",
      "\u001b[38;5;255m| 07:34:51 |   INFO   |                 testing | Lorem ipsum dolor sit amet, consectetur adipiscing elit, sed do eiusmod tempor incididunt ut labore et |\u001b[0m\n",
      "\u001b[38;5;255m|          |          |                         | dolore magna aliqua. Ut enim ad minim veniam, quis nostrud exercitation ullamco laboris nisi ut        |\n",
      "|          |          |                         | aliquip ex ea commodo consequat. Duis aute irure dolor in reprehenderit in voluptate velit esse cillum |\n",
      "|          |          |                         | dolore eu fugiat nulla pariatur. Excepteur sint occaecat cupidatat non proident, sunt in culpa qui     |\n",
      "|          |          |                         | officia deserunt mollit anim id est laborum.                                                           |\u001b[0m\n",
      "\u001b[38;5;255m| 07:34:51 |   INFO   |                 testing | This looks like a filename: \u001b[38;5;184m/tmp/a_file.db\u001b[0m                                                             |\u001b[0m\n",
      "\u001b[38;5;255m| 07:34:51 |   INFO   |                 testing | This looks like a url: \u001b[38;5;44mhttps://someaddress.com\u001b[0m                                                         |\u001b[0m\n",
      "\u001b[38;5;33m| 07:34:51 |  DEBUG   |                 testing | a debug message                                                                                        |\u001b[0m\n",
      "\u001b[38;5;214m| 07:34:51 | WARNING  |                 testing | a warning message                                                                                      |\u001b[0m\n",
      "\u001b[38;5;196m| 07:34:51 |  ERROR   |                 testing | found error we can recover from                                                                        |\u001b[0m\n",
      "\u001b[48;5;52m\u001b[38;5;40m| 07:34:51 | CRITICAL |                 testing | encountered a fatal error                                                                              |\u001b[0m\n",
      "\u001b[38;5;33m| 07:34:51 |  DEBUG   | ...ith_a_very_long_name | test from func                                                                                         |\u001b[0m\n"
     ]
    }
   ],
   "source": [
    "log.hinfo('Timbermafia testing')\n",
    "log.info(lorem)\n",
    "log.info('This looks like a filename: /tmp/a_file.db')\n",
    "log.info('This looks like a url: https://someaddress.com')\n",
    "\n",
    "log.debug('a debug message')\n",
    "log.warning('a warning message')\n",
    "log.error('found error we can recover from')\n",
    "log.fatal('encountered a fatal error')\n",
    "test_log_with_a_very_long_name()"
   ]
  },
  {
   "cell_type": "code",
   "execution_count": 4,
   "metadata": {},
   "outputs": [],
   "source": [
    "f = log.parent.handlers[0].formatter"
   ]
  },
  {
   "cell_type": "code",
   "execution_count": 5,
   "metadata": {},
   "outputs": [
    {
     "data": {
      "text/plain": [
       "'{asctime} | {levelname} | {name}.{funcName} | {message}'"
      ]
     },
     "execution_count": 5,
     "metadata": {},
     "output_type": "execute_result"
    },
    {
     "data": {
      "text/plain": [
       "'|'"
      ]
     },
     "execution_count": 5,
     "metadata": {},
     "output_type": "execute_result"
    }
   ],
   "source": [
    "f._fmt\n",
    "f.separator"
   ]
  },
  {
   "cell_type": "code",
   "execution_count": 6,
   "metadata": {},
   "outputs": [
    {
     "data": {
      "text/plain": [
       "'my title'"
      ]
     },
     "execution_count": 6,
     "metadata": {},
     "output_type": "execute_result"
    },
    {
     "data": {
      "text/plain": [
       "1582356891.0438566"
      ]
     },
     "execution_count": 6,
     "metadata": {},
     "output_type": "execute_result"
    }
   ],
   "source": [
    "l = logging.LogRecord('name', logging.DEBUG, '', 21, 'my title', [], False, func='my_func')\n",
    "l.getMessage()\n",
    "l.created"
   ]
  }
 ],
 "metadata": {
  "kernelspec": {
   "display_name": "timbermafia",
   "language": "python",
   "name": "timbermafia"
  },
  "language_info": {
   "codemirror_mode": {
    "name": "ipython",
    "version": 3
   },
   "file_extension": ".py",
   "mimetype": "text/x-python",
   "name": "python",
   "nbconvert_exporter": "python",
   "pygments_lexer": "ipython3",
   "version": "3.8.1"
  }
 },
 "nbformat": 4,
 "nbformat_minor": 2
}
