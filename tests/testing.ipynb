{
 "cells": [
  {
   "cell_type": "code",
   "execution_count": 1,
   "metadata": {},
   "outputs": [],
   "source": [
    "import timbermafia\n",
    "import logging\n",
    "import sys\n",
    "lorem = \"Lorem ipsum dolor sit amet, consectetur adipiscing elit, sed do eiusmod tempor incididunt ut labore et dolore magna aliqua. Ut enim ad minim veniam, quis nostrud exercitation ullamco laboris nisi ut aliquip ex ea commodo consequat. Duis aute irure dolor in reprehenderit in voluptate velit esse cillum dolore eu fugiat nulla pariatur. Excepteur sint occaecat cupidatat non proident, sunt in culpa qui officia deserunt mollit anim id est laborum.\""
   ]
  },
  {
   "cell_type": "code",
   "execution_count": 2,
   "metadata": {},
   "outputs": [
    {
     "name": "stdout",
     "output_type": "stream",
     "text": [
      "<bound method Logger.warn of <RootLogger root (DEBUG)>> warn\n",
      "<bound method Logger.critical of <RootLogger root (DEBUG)>> fatal\n",
      "<bound method Logger.warning of <RootLogger root (DEBUG)>> warning\n",
      "<bound method Logger.critical of <RootLogger root (DEBUG)>> critical\n",
      "<bound method Logger.error of <RootLogger root (DEBUG)>> error\n",
      "<bound method Logger.info of <RootLogger root (DEBUG)>> info\n",
      "<bound method Logger.debug of <RootLogger root (DEBUG)>> debug\n"
     ]
    }
   ],
   "source": [
    "_valid_styles = ['default', 'test1']\n",
    "\n",
    "from logging import root\n",
    "\n",
    "divider_flag = 'divider_replace_me'\n",
    "\n",
    "def divider():\n",
    "    return divider_flag\n",
    "\n",
    "def headed_log(func=None):\n",
    "    \"\"\"A decorator for header breaks in stdout.\"\"\"\n",
    "\n",
    "    def decorator_divider(self, *args, **kwargs):\n",
    "        func(divider())\n",
    "        func(*args, **kwargs)\n",
    "        func(divider())\n",
    "\n",
    "    return decorator_divider\n",
    "\n",
    "def enhance(log):\n",
    "    levels = []\n",
    "    for level_name in logging._nameToLevel.keys():\n",
    "        if level_name != 'NOTSET':\n",
    "            levels.append(level_name.lower())\n",
    "    levels = set(levels)\n",
    "    funcs = [getattr(root, level) for level in levels]\n",
    "    for func, level in zip(funcs, levels):\n",
    "        print(func, level)\n",
    "        setattr(log, f'h{level}', headed_log(func=func))\n",
    "\n",
    "def configure_root_logger(*args, **kwargs):\n",
    "    \"\"\"Function to configure the root logger in logging, analagous to logging.basicConfig\"\"\"\n",
    "    # Reset handlers\n",
    "    force = kwargs.get('force', True)\n",
    "    if force:\n",
    "        for h in root.handlers[:]:\n",
    "            root.removeHandler(h)\n",
    "            h.close()\n",
    "        \n",
    "    # Pre-determined style\n",
    "    style = kwargs.get('style', 'default')\n",
    "    if style not in _valid_styles:\n",
    "        raise ValueError(f'\"style\" must be one of: {\", \".join(_valid_styles)}')\n",
    "            \n",
    "    ###################################################################################\n",
    "    # Configure formatters\n",
    "    ###################################################################################\n",
    "    show_level = kwargs.get('show_level', False)\n",
    "    user_format = kwargs.get('format', False)\n",
    "    time_format = kwargs.get('time_format', '%H:%M:%S')\n",
    "    format_style = kwargs.get('format_style', '{')\n",
    "    \n",
    "    my_format = user_format if user_format else '{asctime} | {name}.{funcName} | {message}'\n",
    "    my_format_loglevel = user_format if user_format else '{asctime} | {levelname} | {name}.{funcName} | {message}'\n",
    "    format_to_use = my_format_loglevel if show_level else my_format\n",
    "    \n",
    "    stream_formatter = timbermafia.TMFormatter(format_to_use, time_format,\n",
    "                                               style=format_style)\n",
    "    file_formatter = timbermafia.TMFormatter(my_format_loglevel, time_format,\n",
    "                                             style=format_style)\n",
    "    \n",
    "    ###################################################################################\n",
    "    # Configure handlers\n",
    "    ###################################################################################\n",
    "    handlers = []\n",
    "    # Configure stream handler if required.\n",
    "    stream = kwargs.get('stream', None)\n",
    "    show_colour = kwargs.get('show_colour', True)\n",
    "    if stream:\n",
    "        if show_colour:\n",
    "            s = timbermafia.RainbowStreamHandler(stream=stream)\n",
    "        else:\n",
    "            s = logging.StreamHandler(stream=stream)\n",
    "        s.setFormatter(stream_formatter)\n",
    "        handlers.append(s)\n",
    "        \n",
    "    # Configure file handler if required.\n",
    "    filename = kwargs.get('filename', None)\n",
    "    if filename:\n",
    "        f = logging.FileHandler(filename)\n",
    "        f.setFormatter(file_formatter)\n",
    "        handlers.append(f)\n",
    "        \n",
    "    ###################################################################################\n",
    "    # Final config\n",
    "    ###################################################################################\n",
    "    for h in handlers:\n",
    "        root.addHandler(h)\n",
    "    \n",
    "    # Set level\n",
    "    level = kwargs.get('level', 'DEBUG')\n",
    "    root.setLevel(level)\n",
    "    \n",
    "    # Enhance the root log\n",
    "    enhance(logging.Logger)\n",
    "    \n",
    "configure_root_logger(style='test1', stream = sys.stdout, filename='/tmp/test.log')\n",
    "\n",
    "def getLogger(name):\n",
    "    log = logging.getLogger(name)\n",
    "    enhance(log)\n",
    "    return log"
   ]
  },
  {
   "cell_type": "code",
   "execution_count": 3,
   "metadata": {},
   "outputs": [],
   "source": [
    "log = logging.getLogger('mylog')\n",
    "\n",
    "def test_log():\n",
    "    log.debug('test from func')"
   ]
  },
  {
   "cell_type": "code",
   "execution_count": 4,
   "metadata": {},
   "outputs": [
    {
     "name": "stderr",
     "output_type": "stream",
     "text": [
      "\u001b[38;5;15m19:17:40 |                     mylog | Lorem ipsum dolor sit amet, consectetur adipiscing elit, sed do eiusmod\u001b[39m\n",
      "\u001b[38;5;15m         |                           | tempor incididunt ut labore et dolore magna aliqua. Ut enim ad minim veniam,\n",
      "         |                           | quis nostrud exercitation ullamco laboris nisi ut aliquip ex ea commodo\n",
      "         |                           | consequat. Duis aute irure dolor in reprehenderit in voluptate velit esse\n",
      "         |                           | cillum dolore eu fugiat nulla pariatur. Excepteur sint occaecat cupidatat non\n",
      "         |                           | proident, sunt in culpa qui officia deserunt mollit anim id est laborum.\u001b[39m\n",
      "\u001b[38;5;15m19:17:40 |                     mylog | This looks like a filename: \u001b[38;5;184m/tmp/a_file.db\u001b[39m\u001b[39m\n",
      "\u001b[38;5;15m19:17:40 |                     mylog | This looks like a url: \u001b[38;5;201mhttps://someaddress.com\u001b[39m\u001b[39m\n",
      "\u001b[38;5;44m19:17:40 |                     mylog | a debug message\u001b[39m\n",
      "\u001b[38;5;214m19:17:40 |                     mylog | a warning message\u001b[39m\n",
      "\u001b[38;5;196m19:17:40 |                     mylog | found error we can recover from\u001b[39m\n",
      "\u001b[38;5;196m19:17:40 |                     mylog | found a fatal error\u001b[39m\n"
     ]
    }
   ],
   "source": [
    "log.info(lorem)\n",
    "log.info('This looks like a filename: /tmp/a_file.db')\n",
    "log.info('This looks like a url: https://someaddress.com')\n",
    "\n",
    "log.debug('a debug message')\n",
    "log.warning('a warning message')\n",
    "log.error('found error we can recover from')\n",
    "\n",
    "log.fatal('found a fatal error')\n",
    "\n",
    "# log.exception(ValueError('wrong value'), exc_info=True)"
   ]
  },
  {
   "cell_type": "code",
   "execution_count": 5,
   "metadata": {},
   "outputs": [
    {
     "name": "stderr",
     "output_type": "stream",
     "text": [
      "\u001b[38;5;15m------------------------------------------------------------------------------------------------------------------------\u001b[39m\n",
      "\u001b[38;5;15m19:17:40 |                           | a title\u001b[39m\n",
      "\u001b[38;5;15m------------------------------------------------------------------------------------------------------------------------\u001b[39m\n",
      "\u001b[38;5;15m19:17:40 |                     mylog | Lorem ipsum dolor sit amet, consectetur adipiscing elit, sed do eiusmod\u001b[39m\n",
      "\u001b[38;5;15m         |                           | tempor incididunt ut labore et dolore magna aliqua. Ut enim ad minim veniam,\n",
      "         |                           | quis nostrud exercitation ullamco laboris nisi ut aliquip ex ea commodo\n",
      "         |                           | consequat. Duis aute irure dolor in reprehenderit in voluptate velit esse\n",
      "         |                           | cillum dolore eu fugiat nulla pariatur. Excepteur sint occaecat cupidatat non\n",
      "         |                           | proident, sunt in culpa qui officia deserunt mollit anim id est laborum.\u001b[39m\n",
      "\u001b[38;5;214m------------------------------------------------------------------------------------------------------------------------\u001b[39m\n",
      "\u001b[38;5;214m19:17:40 |                           | title with warning\u001b[39m\n",
      "\u001b[38;5;214m------------------------------------------------------------------------------------------------------------------------\u001b[39m\n",
      "\u001b[38;5;44m------------------------------------------------------------------------------------------------------------------------\u001b[39m\n",
      "\u001b[38;5;44m19:17:40 |                           | title with debug\u001b[39m\n",
      "\u001b[38;5;44m------------------------------------------------------------------------------------------------------------------------\u001b[39m\n",
      "\u001b[38;5;196m------------------------------------------------------------------------------------------------------------------------\u001b[39m\n",
      "\u001b[38;5;196m19:17:40 |                           | error title\u001b[39m\n",
      "\u001b[38;5;196m------------------------------------------------------------------------------------------------------------------------\u001b[39m\n"
     ]
    },
    {
     "name": "stdout",
     "output_type": "stream",
     "text": [
      "white\n"
     ]
    }
   ],
   "source": [
    "# enhance(log)\n",
    "log.hinfo('a title')\n",
    "log.info(lorem)\n",
    "log.hwarning('title with warning')\n",
    "log.hdebug('title with debug')\n",
    "log.herror('error title')\n",
    "print('white')"
   ]
  },
  {
   "cell_type": "code",
   "execution_count": 6,
   "metadata": {},
   "outputs": [
    {
     "name": "stderr",
     "output_type": "stream",
     "text": [
      "\u001b[38;5;15m------------------------------------------------------------------------------------------------------------------------\u001b[39m\n",
      "\u001b[38;5;15m19:17:40 |                           | test@\u001b[39m\n",
      "\u001b[38;5;15m------------------------------------------------------------------------------------------------------------------------\u001b[39m\n"
     ]
    }
   ],
   "source": [
    "root.hinfo('test@')"
   ]
  },
  {
   "cell_type": "code",
   "execution_count": 7,
   "metadata": {},
   "outputs": [
    {
     "name": "stderr",
     "output_type": "stream",
     "text": [
      "\u001b[38;5;44m19:17:40 |            mylog.test_log | test from func\u001b[39m\n"
     ]
    }
   ],
   "source": [
    "test_log()"
   ]
  },
  {
   "cell_type": "code",
   "execution_count": 8,
   "metadata": {},
   "outputs": [
    {
     "name": "stderr",
     "output_type": "stream",
     "text": [
      "\u001b[38;5;15m19:17:40 |                  Template | Test logging coming from inside a Template class\u001b[39m\n",
      "\u001b[38;5;44m19:17:40 |      Template.some_method | output from a class method\u001b[39m\n"
     ]
    }
   ],
   "source": [
    "class Template(timbermafia.Logged):\n",
    "    pass\n",
    "\n",
    "    def some_method(self):\n",
    "        self.log.debug('output from a class method')\n",
    "\n",
    "A = Template()\n",
    "A.log.info('Test logging coming from inside a Template class')\n",
    "A.some_method()"
   ]
  },
  {
   "cell_type": "code",
   "execution_count": 9,
   "metadata": {},
   "outputs": [
    {
     "name": "stderr",
     "output_type": "stream",
     "text": [
      "\u001b[38;5;196m19:17:40 |                     mylog | another error\u001b[39m\n"
     ]
    }
   ],
   "source": [
    "log.error('another error')"
   ]
  },
  {
   "cell_type": "code",
   "execution_count": 10,
   "metadata": {},
   "outputs": [
    {
     "name": "stdout",
     "output_type": "stream",
     "text": [
      "\u001b[38;5;214msome red text\n"
     ]
    }
   ],
   "source": [
    "RED = \"\\033[38;5;214m\"\n",
    "print(RED + 'some red text')"
   ]
  },
  {
   "cell_type": "code",
   "execution_count": null,
   "metadata": {},
   "outputs": [],
   "source": []
  }
 ],
 "metadata": {
  "kernelspec": {
   "display_name": "timbermafia",
   "language": "python",
   "name": "timbermafia"
  },
  "language_info": {
   "codemirror_mode": {
    "name": "ipython",
    "version": 3
   },
   "file_extension": ".py",
   "mimetype": "text/x-python",
   "name": "python",
   "nbconvert_exporter": "python",
   "pygments_lexer": "ipython3",
   "version": "3.8.1"
  }
 },
 "nbformat": 4,
 "nbformat_minor": 2
}
