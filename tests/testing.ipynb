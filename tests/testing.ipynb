{
 "cells": [
  {
   "cell_type": "code",
   "execution_count": 1,
   "metadata": {},
   "outputs": [],
   "source": [
    "import timbermafia\n",
    "import logging\n",
    "import sys"
   ]
  },
  {
   "cell_type": "code",
   "execution_count": 2,
   "metadata": {},
   "outputs": [],
   "source": [
    "lorem = \"Lorem ipsum dolor sit amet, consectetur adipiscing elit, sed do eiusmod tempor incididunt ut labore et dolore magna aliqua. Ut enim ad minim veniam, quis nostrud exercitation ullamco laboris nisi ut aliquip ex ea commodo consequat. Duis aute irure dolor in reprehenderit in voluptate velit esse cillum dolore eu fugiat nulla pariatur. Excepteur sint occaecat cupidatat non proident, sunt in culpa qui officia deserunt mollit anim id est laborum.\""
   ]
  },
  {
   "cell_type": "code",
   "execution_count": 3,
   "metadata": {},
   "outputs": [
    {
     "data": {
      "text/plain": [
       "'root'"
      ]
     },
     "execution_count": 3,
     "metadata": {},
     "output_type": "execute_result"
    },
    {
     "name": "stderr",
     "output_type": "stream",
     "text": [
      "TEST\n"
     ]
    }
   ],
   "source": [
    "from logging import root\n",
    "root.name\n",
    "root.info('SHOULD NOT SEE')\n",
    "root.warning('TEST')\n",
    "# def configure_log():\n",
    "    "
   ]
  },
  {
   "cell_type": "code",
   "execution_count": 4,
   "metadata": {},
   "outputs": [],
   "source": [
    "_valid_styles = ['default', 'test1']\n",
    "\n",
    "def configure_root_logger(*args, **kwargs):\n",
    "    \"\"\"Function to configure the root logger in logging, analagous to logging.basicConfig\"\"\"\n",
    "    # Reset each time\n",
    "    for h in root.handlers[:]:\n",
    "        root.removeHandler(h)\n",
    "        h.close()\n",
    "        \n",
    "    # Pre-determined style\n",
    "    style = kwargs.get('style', 'default')\n",
    "    if style not in _valid_styles:\n",
    "        raise ValueError(f'\"style\" must be one of: {\", \".join(_valid_styles)}')\n",
    "    \n",
    "    my_handler = timbermafia.ColorisingStreamHandler(stream=sys.stdout)\n",
    "    my_formatter = timbermafia.TMFormatter('{asctime} | {name}.{funcName} | {message}',\n",
    "                                           '%H:%M:%S', style='{')\n",
    "    my_handler.setFormatter(my_formatter)\n",
    "    root.addHandler(my_handler)\n",
    "    \n",
    "    # Add FileHandler if requested\n",
    "    \n",
    "    # Set level\n",
    "    level = kwargs.get('level', 'DEBUG')\n",
    "    root.setLevel(level)\n",
    "    \n",
    "configure_root_logger(style='test1') "
   ]
  },
  {
   "cell_type": "code",
   "execution_count": 5,
   "metadata": {},
   "outputs": [],
   "source": [
    "log = logging.getLogger('mylog')\n",
    "\n",
    "def test_log():\n",
    "    log.debug('test from func')"
   ]
  },
  {
   "cell_type": "code",
   "execution_count": 6,
   "metadata": {},
   "outputs": [
    {
     "name": "stdout",
     "output_type": "stream",
     "text": [
      "\u001b[37m18:35:52 |                     mylog | test\u001b[0m\n",
      "\u001b[31m18:35:52 |                     mylog | i found something\u001b[0m\n",
      "\u001b[34m18:35:52 |                     mylog | another test\u001b[0m\n",
      "\u001b[33m18:35:52 |                     mylog | Lorem ipsum dolor sit amet, consectetur adipiscing elit, sed do eiusmod\u001b[0m\n",
      "\u001b[33m         |                           | tempor incididunt ut labore et dolore magna aliqua. Ut enim ad minim veniam,\n",
      "         |                           | quis nostrud exercitation ullamco laboris nisi ut aliquip ex ea commodo\n",
      "         |                           | consequat. Duis aute irure dolor in reprehenderit in voluptate velit esse\n",
      "         |                           | cillum dolore eu fugiat nulla pariatur. Excepteur sint occaecat cupidatat non\n",
      "         |                           | proident, sunt in culpa qui officia deserunt mollit anim id est laborum.\u001b[0m\n",
      "\u001b[37m18:35:52 |                     mylog | This looks like a filename: \u001b[36m/tmp/a_file.db\u001b[0m\u001b[0m\n"
     ]
    }
   ],
   "source": [
    "log.info('test')\n",
    "log.error('i found something')\n",
    "log.debug('another test')\n",
    "log.warning(lorem)\n",
    "log.info('This looks like a filename: /tmp/a_file.db')"
   ]
  },
  {
   "cell_type": "code",
   "execution_count": 7,
   "metadata": {},
   "outputs": [
    {
     "data": {
      "text/plain": [
       "<Logger mylog (DEBUG)>"
      ]
     },
     "execution_count": 7,
     "metadata": {},
     "output_type": "execute_result"
    }
   ],
   "source": [
    "log2 = logging.getLogger('mylog.child')\n",
    "log2.parent"
   ]
  },
  {
   "cell_type": "code",
   "execution_count": 8,
   "metadata": {},
   "outputs": [
    {
     "name": "stdout",
     "output_type": "stream",
     "text": [
      "\u001b[34m18:35:52 |            mylog.test_log | test from func\u001b[0m\n"
     ]
    }
   ],
   "source": [
    "test_log()"
   ]
  },
  {
   "cell_type": "code",
   "execution_count": 9,
   "metadata": {},
   "outputs": [
    {
     "name": "stdout",
     "output_type": "stream",
     "text": [
      "\u001b[37m18:35:52 |                  Template | Test logging coming from inside a class\u001b[0m\n"
     ]
    }
   ],
   "source": [
    "class Template(timbermafia.Logged):\n",
    "    pass\n",
    "\n",
    "    def some_method(self):\n",
    "        self.log.debug('output from a class metho')\n",
    "\n",
    "A = Template()\n",
    "A.log.info('Test logging coming from inside a Template class')\n"
   ]
  },
  {
   "cell_type": "code",
   "execution_count": 10,
   "metadata": {},
   "outputs": [
    {
     "name": "stdout",
     "output_type": "stream",
     "text": [
      "\u001b[31m18:35:52 |                     mylog | another error\u001b[0m\n"
     ]
    }
   ],
   "source": [
    "log.error('another error')"
   ]
  },
  {
   "cell_type": "code",
   "execution_count": null,
   "metadata": {},
   "outputs": [],
   "source": []
  }
 ],
 "metadata": {
  "kernelspec": {
   "display_name": "timbermafia",
   "language": "python",
   "name": "timbermafia"
  },
  "language_info": {
   "codemirror_mode": {
    "name": "ipython",
    "version": 3
   },
   "file_extension": ".py",
   "mimetype": "text/x-python",
   "name": "python",
   "nbconvert_exporter": "python",
   "pygments_lexer": "ipython3",
   "version": "3.8.1"
  }
 },
 "nbformat": 4,
 "nbformat_minor": 2
}
