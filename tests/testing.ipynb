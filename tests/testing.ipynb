{
 "cells": [
  {
   "cell_type": "code",
   "execution_count": 1,
   "metadata": {},
   "outputs": [],
   "source": [
    "import timbermafia\n",
    "import logging\n",
    "import sys\n",
    "lorem = \"Lorem ipsum dolor sit amet, consectetur adipiscing elit, sed do eiusmod tempor incididunt ut labore et dolore magna aliqua. Ut enim ad minim veniam, quis nostrud exercitation ullamco laboris nisi ut aliquip ex ea commodo consequat. Duis aute irure dolor in reprehenderit in voluptate velit esse cillum dolore eu fugiat nulla pariatur. Excepteur sint occaecat cupidatat non proident, sunt in culpa qui officia deserunt mollit anim id est laborum.\"\n",
    "def test_log_with_a_very_long_name():\n",
    "    log.debug('test from func')\n",
    "class MyClass(timbermafia.Logged):\n",
    "    def status(self):\n",
    "        self.log.info(f'logging from {self.__class__.__name__} in the function status')"
   ]
  },
  {
   "cell_type": "code",
   "execution_count": 2,
   "metadata": {},
   "outputs": [
    {
     "name": "stdout",
     "output_type": "stream",
     "text": [
      "{'level': 10, 'style': 'simple_mono', 'palette': 'dawn', 'monochrome': True, 'bold': False, 'enclose': False, 'enclosers': [], 'show_separator': True, 'divide_lines': False, 'line_separator': '-', 'separator': '>', 'separator_style': 'smart', 'sparse_separators': True, 'clean_names': True, 'justify': 'left', 'justify_left': ['message'], 'justify_right': [], 'justify_center': [], 'truncate': [], 'columns': 141, 'name_padding': 8, 'funcName_padding': 8, 'module_padding': 25, 'pathname_padding': 40, 'lineNo_padding': 4, 'thread_padding': 15, 'threadName_padding': 10, 'format': '{levelname} > {name}.{funcName} > {message}', 'time_format': '%H:%M:%S', 'format_style': '{', 'sparse_separator': True}\n",
      "---------------------------------------------------------------------------------------------------------------------------------------------\n",
      ">                                                        Demo of timbermafia logging                                                        >\n",
      "---------------------------------------------------------------------------------------------------------------------------------------------\n",
      "{'max_lines': 1, 0: {'line_array': ['INFO    '], 'padding': 8, 'section': '{levelname}'}, 1: {'line_array': ['testing         '], 'padding': 16, 'section': '{name}.{funcName}'}, 2: {'line_array': ['INFO messages look like this                                                                                   '], 'padding': 111, 'section': '{message}'}}\n",
      "INFO     > testing          > INFO messages look like this                                                                                   \n",
      "{'max_lines': 1, 0: {'line_array': ['INFO    '], 'padding': 8, 'section': '{levelname}'}, 1: {'line_array': ['testing         '], 'padding': 16, 'section': '{name}.{funcName}'}, 2: {'line_array': ['INFO messages look like this                                                                                   '], 'padding': 111, 'section': '{message}'}}\n",
      "{'max_lines': 1, 0: {'line_array': ['INFO    '], 'padding': 8, 'section': '{levelname}'}, 1: {'line_array': ['testing         '], 'padding': 16, 'section': '{name}.{funcName}'}, 2: {'line_array': ['urls look like this: www.github.com or https://ipleak.net/                                                     '], 'padding': 111, 'section': '{message}'}}\n",
      "INFO     > testing          > urls look like this: www.github.com or https://ipleak.net/                                                     \n",
      "{'max_lines': 1, 0: {'line_array': ['INFO    '], 'padding': 8, 'section': '{levelname}'}, 1: {'line_array': ['testing         '], 'padding': 16, 'section': '{name}.{funcName}'}, 2: {'line_array': ['urls look like this: www.github.com or https://ipleak.net/                                                     '], 'padding': 111, 'section': '{message}'}}\n",
      "{'max_lines': 1, 0: {'line_array': ['INFO    '], 'padding': 8, 'section': '{levelname}'}, 1: {'line_array': ['testing         '], 'padding': 16, 'section': '{name}.{funcName}'}, 2: {'line_array': ['local files look like this: /tmp/timbermafia_test.log - this output is being written there too!                '], 'padding': 111, 'section': '{message}'}}\n",
      "INFO     > testing          > local files look like this: /tmp/timbermafia_test.log - this output is being written there too!                \n",
      "{'max_lines': 1, 0: {'line_array': ['INFO    '], 'padding': 8, 'section': '{levelname}'}, 1: {'line_array': ['testing         '], 'padding': 16, 'section': '{name}.{funcName}'}, 2: {'line_array': ['local files look like this: /tmp/timbermafia_test.log - this output is being written there too!                '], 'padding': 111, 'section': '{message}'}}\n",
      "{'max_lines': 5, 0: {'line_array': ['INFO    '], 'padding': 8, 'section': '{levelname}'}, 1: {'line_array': ['testing         '], 'padding': 16, 'section': '{name}.{funcName}'}, 2: {'line_array': ['Lorem ipsum dolor sit amet, consectetur adipiscing elit, sed do eiusmod tempor incididunt ut labore et dolore  ', 'magna aliqua. Ut enim ad minim veniam, quis nostrud exercitation ullamco laboris nisi ut aliquip ex ea commodo ', 'consequat. Duis aute irure dolor in reprehenderit in voluptate velit esse cillum dolore eu fugiat nulla        ', 'pariatur. Excepteur sint occaecat cupidatat non proident, sunt in culpa qui officia deserunt mollit anim id est', 'laborum.                                                                                                       '], 'padding': 111, 'section': '{message}'}}\n",
      "INFO     > testing          > Lorem ipsum dolor sit amet, consectetur adipiscing elit, sed do eiusmod tempor incididunt ut labore et dolore  \n",
      "                            > magna aliqua. Ut enim ad minim veniam, quis nostrud exercitation ullamco laboris nisi ut aliquip ex ea commodo \n",
      "                            > consequat. Duis aute irure dolor in reprehenderit in voluptate velit esse cillum dolore eu fugiat nulla        \n",
      "                            > pariatur. Excepteur sint occaecat cupidatat non proident, sunt in culpa qui officia deserunt mollit anim id est\n",
      "                            > laborum.                                                                                                       \n",
      "{'max_lines': 5, 0: {'line_array': ['INFO    '], 'padding': 8, 'section': '{levelname}'}, 1: {'line_array': ['testing         '], 'padding': 16, 'section': '{name}.{funcName}'}, 2: {'line_array': ['Lorem ipsum dolor sit amet, consectetur adipiscing elit, sed do eiusmod tempor incididunt ut labore et dolore  ', 'magna aliqua. Ut enim ad minim veniam, quis nostrud exercitation ullamco laboris nisi ut aliquip ex ea commodo ', 'consequat. Duis aute irure dolor in reprehenderit in voluptate velit esse cillum dolore eu fugiat nulla        ', 'pariatur. Excepteur sint occaecat cupidatat non proident, sunt in culpa qui officia deserunt mollit anim id est', 'laborum.                                                                                                       '], 'padding': 111, 'section': '{message}'}}\n",
      "{'max_lines': 1, 0: {'line_array': ['INFO    '], 'padding': 8, 'section': '{levelname}'}, 1: {'line_array': ['MyClass         '], 'padding': 16, 'section': '{name}.{funcName}'}, 2: {'line_array': ['messages from MyClass with a timbermafia mixin logger look like this                                           '], 'padding': 111, 'section': '{message}'}}\n",
      "INFO     > MyClass          > messages from MyClass with a timbermafia mixin logger look like this                                           \n",
      "{'max_lines': 1, 0: {'line_array': ['INFO    '], 'padding': 8, 'section': '{levelname}'}, 1: {'line_array': ['MyClass         '], 'padding': 16, 'section': '{name}.{funcName}'}, 2: {'line_array': ['messages from MyClass with a timbermafia mixin logger look like this                                           '], 'padding': 111, 'section': '{message}'}}\n",
      "{'max_lines': 1, 0: {'line_array': ['INFO    '], 'padding': 8, 'section': '{levelname}'}, 1: {'line_array': ['MyClass.status  '], 'padding': 16, 'section': '{name}.{funcName}'}, 2: {'line_array': ['logging from MyClass in the function status                                                                    '], 'padding': 111, 'section': '{message}'}}\n",
      "INFO     > MyClass.status   > logging from MyClass in the function status                                                                    \n",
      "{'max_lines': 1, 0: {'line_array': ['INFO    '], 'padding': 8, 'section': '{levelname}'}, 1: {'line_array': ['MyClass.status  '], 'padding': 16, 'section': '{name}.{funcName}'}, 2: {'line_array': ['logging from MyClass in the function status                                                                    '], 'padding': 111, 'section': '{message}'}}\n",
      "{'max_lines': 1, 0: {'line_array': ['DEBUG   '], 'padding': 8, 'section': '{levelname}'}, 1: {'line_array': ['testing         '], 'padding': 16, 'section': '{name}.{funcName}'}, 2: {'line_array': ['DEBUG messages look like this                                                                                  '], 'padding': 111, 'section': '{message}'}}\n",
      "DEBUG    > testing          > DEBUG messages look like this                                                                                  \n"
     ]
    },
    {
     "name": "stdout",
     "output_type": "stream",
     "text": [
      "{'max_lines': 1, 0: {'line_array': ['DEBUG   '], 'padding': 8, 'section': '{levelname}'}, 1: {'line_array': ['testing         '], 'padding': 16, 'section': '{name}.{funcName}'}, 2: {'line_array': ['DEBUG messages look like this                                                                                  '], 'padding': 111, 'section': '{message}'}}\n",
      "{'max_lines': 1, 0: {'line_array': ['WARNING '], 'padding': 8, 'section': '{levelname}'}, 1: {'line_array': ['testing         '], 'padding': 16, 'section': '{name}.{funcName}'}, 2: {'line_array': ['WARNING messages look like this                                                                                '], 'padding': 111, 'section': '{message}'}}\n",
      "WARNING  > testing          > WARNING messages look like this                                                                                \n",
      "{'max_lines': 1, 0: {'line_array': ['WARNING '], 'padding': 8, 'section': '{levelname}'}, 1: {'line_array': ['testing         '], 'padding': 16, 'section': '{name}.{funcName}'}, 2: {'line_array': ['WARNING messages look like this                                                                                '], 'padding': 111, 'section': '{message}'}}\n",
      "{'max_lines': 1, 0: {'line_array': ['ERROR   '], 'padding': 8, 'section': '{levelname}'}, 1: {'line_array': ['testing         '], 'padding': 16, 'section': '{name}.{funcName}'}, 2: {'line_array': ['ERROR messages look like this                                                                                  '], 'padding': 111, 'section': '{message}'}}\n",
      "ERROR    > testing          > ERROR messages look like this                                                                                  \n",
      "{'max_lines': 1, 0: {'line_array': ['ERROR   '], 'padding': 8, 'section': '{levelname}'}, 1: {'line_array': ['testing         '], 'padding': 16, 'section': '{name}.{funcName}'}, 2: {'line_array': ['ERROR messages look like this                                                                                  '], 'padding': 111, 'section': '{message}'}}\n",
      "{'max_lines': 1, 0: {'line_array': ['CRITICAL'], 'padding': 8, 'section': '{levelname}'}, 1: {'line_array': ['testing         '], 'padding': 16, 'section': '{name}.{funcName}'}, 2: {'line_array': ['FATAL/CRITICAL error messages look like this.                                                                  '], 'padding': 111, 'section': '{message}'}}\n",
      "CRITICAL > testing          > FATAL/CRITICAL error messages look like this.                                                                  \n",
      "{'max_lines': 1, 0: {'line_array': ['CRITICAL'], 'padding': 8, 'section': '{levelname}'}, 1: {'line_array': ['testing         '], 'padding': 16, 'section': '{name}.{funcName}'}, 2: {'line_array': ['FATAL/CRITICAL error messages look like this.                                                                  '], 'padding': 111, 'section': '{message}'}}\n",
      "{'max_lines': 3, 0: {'line_array': ['DEBUG   '], 'padding': 8, 'section': '{levelname}'}, 1: {'line_array': ['testing.test_log', '_with_a_very_lon', 'g_name          '], 'padding': 16, 'section': '{name}.{funcName}'}, 2: {'line_array': ['test from func                                                                                                 '], 'padding': 111, 'section': '{message}'}}\n",
      "DEBUG    > testing.test_log > test from func                                                                                                 \n",
      "           _with_a_very_lon >                                                                                                                \n",
      "           g_name           >                                                                                                                \n",
      "{'max_lines': 3, 0: {'line_array': ['DEBUG   '], 'padding': 8, 'section': '{levelname}'}, 1: {'line_array': ['testing.test_log', '_with_a_very_lon', 'g_name          '], 'padding': 16, 'section': '{name}.{funcName}'}, 2: {'line_array': ['test from func                                                                                                 '], 'padding': 111, 'section': '{message}'}}\n"
     ]
    }
   ],
   "source": [
    "timbermafia.configure(bold=False, style='simple_mono', palette='dawn')\n",
    "timbermafia.add_handler(stream=sys.stdout, filename='/tmp/timbermafia_test.log', clear=True)\n",
    "\n",
    "log = logging.getLogger('testing')\n",
    "log.header('Demo of timbermafia logging')\n",
    "log.info('INFO messages look like this')\n",
    "log.info('urls look like this: www.github.com or https://ipleak.net/')\n",
    "log.info('local files look like this: /tmp/timbermafia_test.log '\n",
    "         '- this output is being written there too!')\n",
    "log.info(lorem)\n",
    "\n",
    "m = MyClass()\n",
    "m.log.info('messages from MyClass with a timbermafia mixin logger look like this')\n",
    "m.status()\n",
    "log.debug('DEBUG messages look like this')\n",
    "log.warning('WARNING messages look like this')\n",
    "log.error('ERROR messages look like this')\n",
    "log.fatal('FATAL/CRITICAL error messages look like this.')\n",
    "test_log_with_a_very_long_name()\n"
   ]
  },
  {
   "cell_type": "code",
   "execution_count": 3,
   "metadata": {},
   "outputs": [],
   "source": [
    "# f = log.parent.handlers[0].formatter\n",
    "# f._fmt\n",
    "# f.separator"
   ]
  },
  {
   "cell_type": "code",
   "execution_count": 4,
   "metadata": {},
   "outputs": [],
   "source": [
    "# l = logging.LogRecord('name', logging.DEBUG, '', 21, 'my title', [], False, func='my_func')\n",
    "# l.getMessage()\n",
    "# l.created"
   ]
  },
  {
   "cell_type": "code",
   "execution_count": null,
   "metadata": {},
   "outputs": [],
   "source": []
  }
 ],
 "metadata": {
  "kernelspec": {
   "display_name": "timbermafia",
   "language": "python",
   "name": "timbermafia"
  },
  "language_info": {
   "codemirror_mode": {
    "name": "ipython",
    "version": 3
   },
   "file_extension": ".py",
   "mimetype": "text/x-python",
   "name": "python",
   "nbconvert_exporter": "python",
   "pygments_lexer": "ipython3",
   "version": "3.8.1"
  }
 },
 "nbformat": 4,
 "nbformat_minor": 2
}
