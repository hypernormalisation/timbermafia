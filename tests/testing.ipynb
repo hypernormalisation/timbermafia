{
 "cells": [
  {
   "cell_type": "code",
   "execution_count": 1,
   "metadata": {},
   "outputs": [],
   "source": [
    "import timbermafia\n",
    "import logging\n",
    "import sys\n",
    "from timbermafia.formatters import *\n",
    "lorem = \"Lorem ipsum dolor sit amet, consectetur adipiscing elit, sed do eiusmod tempor incididunt ut labore et dolore magna aliqua. Ut enim ad minim veniam, quis nostrud exercitation ullamco laboris nisi ut aliquip ex ea commodo consequat. Duis aute irure dolor in reprehenderit in voluptate velit esse cillum dolore eu fugiat nulla pariatur. Excepteur sint occaecat cupidatat non proident, sunt in culpa qui officia deserunt mollit anim id est laborum.\""
   ]
  },
  {
   "cell_type": "code",
   "execution_count": 2,
   "metadata": {},
   "outputs": [],
   "source": [
    "timbermafia.set_config(columns=150, format='{asctime} | {levelname} | {threadName}.{name}.{funcName} | {message}')\n",
    "timbermafia.configure_root_logger(stream=sys.stdout)\n",
    "log = logging.getLogger('testing')\n",
    "\n",
    "def test_log():\n",
    "    log.debug('test from func')"
   ]
  },
  {
   "cell_type": "code",
   "execution_count": 3,
   "metadata": {},
   "outputs": [
    {
     "name": "stderr",
     "output_type": "stream",
     "text": [
      "\u001b[38;5;15m19:17:17 |    INFO |         MainThread.testing.<module> |  Lorem ipsum dolor sit amet, consectetur adipiscing elit, sed do eiusmod tempor incididunt ut |\u001b[39m\n",
      "\u001b[38;5;15m         |         |                                     |     labore et dolore magna aliqua. Ut enim ad minim veniam, quis nostrud exercitation ullamco |\n",
      "         |         |                                     |    laboris nisi ut aliquip ex ea commodo consequat. Duis aute irure dolor in reprehenderit in |\n",
      "         |         |                                     |          voluptate velit esse cillum dolore eu fugiat nulla pariatur. Excepteur sint occaecat |\n",
      "         |         |                                     |        cupidatat non proident, sunt in culpa qui officia deserunt mollit anim id est laborum. |\u001b[39m\n",
      "\u001b[38;5;44m19:17:17 |   DEBUG |         MainThread.testing.<module> |                                                                               a debug message |\u001b[39m\n",
      "\u001b[38;5;214m19:17:17 | WARNING |         MainThread.testing.<module> |                                                                             a warning message |\u001b[39m\n",
      "\u001b[38;5;196m19:17:17 |   ERROR |         MainThread.testing.<module> |                                                               found error we can recover from |\u001b[39m\n"
     ]
    },
    {
     "name": "stdout",
     "output_type": "stream",
     "text": [
      "['name', 'funcName', 'thread', 'threadName', 'asctime']\n"
     ]
    }
   ],
   "source": [
    "# log.hinfo('Timbermafia testing')\n",
    "log.info(lorem)\n",
    "# log.info('This looks like a filename: /tmp/a_file.db')\n",
    "# log.info('This looks like a url: https://someaddress.com')\n",
    "\n",
    "log.debug('a debug message')\n",
    "log.warning('a warning message')\n",
    "log.error('found error we can recover from')"
   ]
  },
  {
   "cell_type": "code",
   "execution_count": 4,
   "metadata": {},
   "outputs": [],
   "source": [
    "f = log.parent.handlers[0].formatter"
   ]
  },
  {
   "cell_type": "code",
   "execution_count": 5,
   "metadata": {},
   "outputs": [
    {
     "data": {
      "text/plain": [
       "'{asctime} | {levelname} | {threadName}.{name}.{funcName} | {message}'"
      ]
     },
     "execution_count": 5,
     "metadata": {},
     "output_type": "execute_result"
    }
   ],
   "source": [
    "f._fmt"
   ]
  },
  {
   "cell_type": "code",
   "execution_count": 6,
   "metadata": {},
   "outputs": [
    {
     "data": {
      "text/plain": [
       "'|'"
      ]
     },
     "execution_count": 6,
     "metadata": {},
     "output_type": "execute_result"
    }
   ],
   "source": [
    "f.separator\n",
    "    \n"
   ]
  },
  {
   "cell_type": "code",
   "execution_count": 7,
   "metadata": {},
   "outputs": [],
   "source": [
    "sections = [s.strip() for s in f._fmt.split(f.separator)]"
   ]
  },
  {
   "cell_type": "code",
   "execution_count": 8,
   "metadata": {},
   "outputs": [
    {
     "data": {
      "text/plain": [
       "'19:17:17 | INFO | MainThread.test.my_func_that_has_a_totally_ridiculously_long_name | this is a very very very obtusely ridiculously fucking long and inconvenient kind of shit message'"
      ]
     },
     "execution_count": 8,
     "metadata": {},
     "output_type": "execute_result"
    }
   ],
   "source": [
    "l = logging.LogRecord('test', logging.INFO, 'testpath', 12, 'this is a very very very obtusely ridiculously fucking long and inconvenient kind of shit message',[], False, func='my_func_that_has_a_totally_ridiculously_long_name')\n",
    "# f.format(l)\n",
    "s = super(TMFormatter, f).format(l)\n",
    "s"
   ]
  },
  {
   "cell_type": "code",
   "execution_count": 9,
   "metadata": {},
   "outputs": [
    {
     "name": "stdout",
     "output_type": "stream",
     "text": [
      "{asctime}: 19:17:17\n",
      "{levelname}: INFO\n",
      "{threadName}.{name}.{funcName}: MainThread.test.my_func_that_has_a_totally_ridiculously_long_name\n",
      "{message}: this is a very very very obtusely ridiculously fucking long and inconvenient kind of shit message\n"
     ]
    },
    {
     "data": {
      "text/plain": [
       "10"
      ]
     },
     "execution_count": 9,
     "metadata": {},
     "output_type": "execute_result"
    }
   ],
   "source": [
    "chunks = [chunk.strip() for chunk in s.split(f.separator)]\n",
    "time_length = None\n",
    "time = None\n",
    "for section, message in zip(sections, chunks):\n",
    "    print(f'{section}: {message}')\n",
    "    # Length of time string will be uniform so adaptively read it.\n",
    "    if 'asctime' in section:\n",
    "        time = message\n",
    "        time_length = len(message) + 2  # add the space and divisor\n",
    "time_length"
   ]
  },
  {
   "cell_type": "code",
   "execution_count": 10,
   "metadata": {},
   "outputs": [
    {
     "data": {
      "text/plain": [
       "['{asctime}', '{levelname}', '{threadName}.{name}.{funcName}', '{message}']"
      ]
     },
     "execution_count": 10,
     "metadata": {},
     "output_type": "execute_result"
    },
    {
     "data": {
      "text/plain": [
       "['19:17:17',\n",
       " 'INFO',\n",
       " 'MainThread.test.my_func_that_has_a_totally_ridiculously_long_name',\n",
       " 'this is a very very very obtusely ridiculously fucking long and inconvenient kind of shit message']"
      ]
     },
     "execution_count": 10,
     "metadata": {},
     "output_type": "execute_result"
    }
   ],
   "source": [
    "sections\n",
    "chunks"
   ]
  },
  {
   "cell_type": "code",
   "execution_count": 11,
   "metadata": {},
   "outputs": [
    {
     "data": {
      "text/plain": [
       "{'name': 12,\n",
       " 'funcName': 13,\n",
       " 'module': 25,\n",
       " 'pathname': 40,\n",
       " 'lineNo': 4,\n",
       " 'thread': 4,\n",
       " 'threadName': 10,\n",
       " 'asctime': 8,\n",
       " 'message': 93,\n",
       " 'levelname': 7}"
      ]
     },
     "execution_count": 11,
     "metadata": {},
     "output_type": "execute_result"
    }
   ],
   "source": [
    "f.padding_dict"
   ]
  },
  {
   "cell_type": "code",
   "execution_count": 12,
   "metadata": {},
   "outputs": [],
   "source": [
    "import textwrap\n",
    "def pad(header, content):\n",
    "    \n",
    "    # Find the fields present\n",
    "    fields = [s for s in f.padding_dict if '{'+s+'}' in header]\n",
    "    \n",
    "    # Add the padding for each field\n",
    "    padding = 0\n",
    "    for field in fields:\n",
    "        padding += f.padding_dict[field]\n",
    "    \n",
    "    # textwrap the results\n",
    "    content_list = textwrap.wrap(content, padding, break_long_words=True)\n",
    "    print(fields, padding)\n",
    "\n",
    "    return content_list, padding\n",
    "\n",
    "    \n"
   ]
  },
  {
   "cell_type": "code",
   "execution_count": 13,
   "metadata": {},
   "outputs": [
    {
     "name": "stdout",
     "output_type": "stream",
     "text": [
      "['asctime'] 8\n",
      "['levelname'] 7\n",
      "['name', 'funcName', 'threadName'] 35\n",
      "['message'] 93\n"
     ]
    }
   ],
   "source": [
    "contents = {}\n",
    "max_lines = 0\n",
    "for i, (s, c) in enumerate(zip(sections, chunks)):\n",
    "    s_list, padding = pad(s, c)\n",
    "    n_lines = len(s_list)\n",
    "    if max_lines < n_lines:\n",
    "        max_lines = n_lines\n",
    "    contents[i] = {'line_array': s_list, 'padding': padding}\n",
    "    "
   ]
  },
  {
   "cell_type": "code",
   "execution_count": 14,
   "metadata": {},
   "outputs": [
    {
     "data": {
      "text/plain": [
       "{0: {'line_array': ['19:17:17'], 'padding': 8},\n",
       " 1: {'line_array': ['INFO'], 'padding': 7},\n",
       " 2: {'line_array': ['MainThread.test.my_func_that_has_a_',\n",
       "   'totally_ridiculously_long_name'],\n",
       "  'padding': 35},\n",
       " 3: {'line_array': ['this is a very very very obtusely ridiculously fucking long and inconvenient kind of shit',\n",
       "   'message'],\n",
       "  'padding': 93}}"
      ]
     },
     "execution_count": 14,
     "metadata": {},
     "output_type": "execute_result"
    }
   ],
   "source": [
    "contents"
   ]
  },
  {
   "cell_type": "code",
   "execution_count": 15,
   "metadata": {},
   "outputs": [
    {
     "data": {
      "text/plain": [
       "2"
      ]
     },
     "execution_count": 15,
     "metadata": {},
     "output_type": "execute_result"
    }
   ],
   "source": [
    "max_lines"
   ]
  },
  {
   "cell_type": "code",
   "execution_count": 16,
   "metadata": {},
   "outputs": [
    {
     "data": {
      "text/plain": [
       "'19:17:17'"
      ]
     },
     "execution_count": 16,
     "metadata": {},
     "output_type": "execute_result"
    }
   ],
   "source": [
    "contents[0]['line_array'][0]"
   ]
  },
  {
   "cell_type": "code",
   "execution_count": 17,
   "metadata": {},
   "outputs": [
    {
     "name": "stdout",
     "output_type": "stream",
     "text": [
      "19:17:17 | INFO    | MainThread.test.my_func_that_has_a_ | this is a very very very obtusely ridiculously fucking long and inconvenient kind of shit     |\n",
      "         |         | totally_ridiculously_long_name      | message                                                                                       |\n",
      "\n"
     ]
    }
   ],
   "source": [
    "complete_s = ''\n",
    "segments = len(contents)\n",
    "for i in range(max_lines):\n",
    "    for j, (key, results) in enumerate(contents.items()):\n",
    "        try:\n",
    "            complete_s += results['line_array'][i].ljust(results['padding'])\n",
    "        except IndexError:\n",
    "            complete_s += ' '* results['padding']\n",
    "        complete_s += f' {f.separator}'\n",
    "        # Don't add space after final delimiter\n",
    "        if j != (segments - 1):\n",
    "            complete_s += ' '\n",
    "    complete_s += '\\n'\n",
    "    \n",
    "print(complete_s)"
   ]
  },
  {
   "cell_type": "code",
   "execution_count": 18,
   "metadata": {},
   "outputs": [
    {
     "data": {
      "text/plain": [
       "151"
      ]
     },
     "execution_count": 18,
     "metadata": {},
     "output_type": "execute_result"
    }
   ],
   "source": [
    "ms = '16:35:36 | 13968278942291 | test.my_func_that_has_a_t | this is a very very very obtusely ridiculously fucking long and inconvenient kind of shit     |'\n",
    "len(ms)"
   ]
  },
  {
   "cell_type": "code",
   "execution_count": null,
   "metadata": {},
   "outputs": [],
   "source": [
    "\n"
   ]
  }
 ],
 "metadata": {
  "kernelspec": {
   "display_name": "timbermafia",
   "language": "python",
   "name": "timbermafia"
  },
  "language_info": {
   "codemirror_mode": {
    "name": "ipython",
    "version": 3
   },
   "file_extension": ".py",
   "mimetype": "text/x-python",
   "name": "python",
   "nbconvert_exporter": "python",
   "pygments_lexer": "ipython3",
   "version": "3.8.1"
  }
 },
 "nbformat": 4,
 "nbformat_minor": 2
}
