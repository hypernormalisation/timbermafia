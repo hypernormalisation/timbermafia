{
 "cells": [
  {
   "cell_type": "code",
   "execution_count": 1,
   "metadata": {},
   "outputs": [],
   "source": [
    "import timbermafia\n",
    "import logging\n",
    "import sys\n",
    "from timbermafia.formatters import *\n",
    "lorem = \"Lorem ipsum dolor sit amet, consectetur adipiscing elit, sed do eiusmod tempor incididunt ut labore et dolore magna aliqua. Ut enim ad minim veniam, quis nostrud exercitation ullamco laboris nisi ut aliquip ex ea commodo consequat. Duis aute irure dolor in reprehenderit in voluptate velit esse cillum dolore eu fugiat nulla pariatur. Excepteur sint occaecat cupidatat non proident, sunt in culpa qui officia deserunt mollit anim id est laborum.\""
   ]
  },
  {
   "cell_type": "code",
   "execution_count": 2,
   "metadata": {},
   "outputs": [],
   "source": [
    "timbermafia.configure_root_logger(stream=sys.stdout)\n",
    "log = logging.getLogger('testing')\n",
    "\n",
    "def test_log():\n",
    "    log.debug('test from func')"
   ]
  },
  {
   "cell_type": "code",
   "execution_count": 3,
   "metadata": {},
   "outputs": [
    {
     "name": "stderr",
     "output_type": "stream",
     "text": [
      "\u001b[38;5;15m------------------------------------------------------------------------------------------------------------------------\u001b[39m\n",
      "\u001b[38;5;15m01:25:33 |                                | Timbermafia testing\u001b[39m\n",
      "\u001b[38;5;15m------------------------------------------------------------------------------------------------------------------------\u001b[39m\n",
      "\u001b[38;5;15m01:25:33 |                        testing | Lorem ipsum dolor sit amet, consectetur adipiscing elit, sed do eiusmod\u001b[39m\n",
      "\u001b[38;5;15m         |                                | tempor incididunt ut labore et dolore magna aliqua. Ut enim ad minim veniam,\n",
      "         |                                | quis nostrud exercitation ullamco laboris nisi ut aliquip ex ea commodo\n",
      "         |                                | consequat. Duis aute irure dolor in reprehenderit in voluptate velit esse\n",
      "         |                                | cillum dolore eu fugiat nulla pariatur. Excepteur sint occaecat cupidatat non\n",
      "         |                                | proident, sunt in culpa qui officia deserunt mollit anim id est laborum.\u001b[39m\n",
      "\u001b[38;5;15m01:25:33 |                        testing | This looks like a filename: \u001b[38;5;184m/tmp/a_file.db\u001b[39m\u001b[39m\n",
      "\u001b[38;5;15m01:25:33 |                        testing | This looks like a url: \u001b[38;5;201mhttps://someaddress.com\u001b[39m\u001b[39m\n",
      "\u001b[38;5;44m01:25:33 |                        testing | a debug message\u001b[39m\n",
      "\u001b[38;5;214m01:25:33 |                        testing | a warning message\u001b[39m\n",
      "\u001b[38;5;196m01:25:33 |                        testing | found error we can recover from\u001b[39m\n"
     ]
    }
   ],
   "source": [
    "log.hinfo('Timbermafia testing')\n",
    "log.info(lorem)\n",
    "log.info('This looks like a filename: /tmp/a_file.db')\n",
    "log.info('This looks like a url: https://someaddress.com')\n",
    "\n",
    "log.debug('a debug message')\n",
    "log.warning('a warning message')\n",
    "log.error('found error we can recover from')"
   ]
  },
  {
   "cell_type": "code",
   "execution_count": 4,
   "metadata": {},
   "outputs": [],
   "source": [
    "f = log.parent.handlers[0].formatter"
   ]
  },
  {
   "cell_type": "code",
   "execution_count": 5,
   "metadata": {},
   "outputs": [
    {
     "data": {
      "text/plain": [
       "'{asctime} | {name}.{funcName} | {message}'"
      ]
     },
     "execution_count": 5,
     "metadata": {},
     "output_type": "execute_result"
    }
   ],
   "source": [
    "f._fmt"
   ]
  },
  {
   "cell_type": "code",
   "execution_count": 6,
   "metadata": {},
   "outputs": [
    {
     "data": {
      "text/plain": [
       "'|'"
      ]
     },
     "execution_count": 6,
     "metadata": {},
     "output_type": "execute_result"
    }
   ],
   "source": [
    "f.separator"
   ]
  },
  {
   "cell_type": "code",
   "execution_count": 7,
   "metadata": {},
   "outputs": [],
   "source": [
    "sections = [s.strip() for s in f._fmt.split(f.separator)]"
   ]
  },
  {
   "cell_type": "code",
   "execution_count": 8,
   "metadata": {},
   "outputs": [
    {
     "data": {
      "text/plain": [
       "'01:25:33 | test.my_func | this is a message'"
      ]
     },
     "execution_count": 8,
     "metadata": {},
     "output_type": "execute_result"
    }
   ],
   "source": [
    "l = logging.LogRecord('test', logging.INFO, 'testpath', 12, 'this is a message',[], False, func='my_func')\n",
    "# f.format(l)\n",
    "s = super(TMFormatter, f).format(l)\n",
    "s"
   ]
  },
  {
   "cell_type": "code",
   "execution_count": 9,
   "metadata": {},
   "outputs": [
    {
     "name": "stdout",
     "output_type": "stream",
     "text": [
      "{asctime}: 01:25:33\n",
      "{name}.{funcName}: test.my_func\n",
      "{message}: this is a message\n"
     ]
    },
    {
     "data": {
      "text/plain": [
       "10"
      ]
     },
     "execution_count": 9,
     "metadata": {},
     "output_type": "execute_result"
    }
   ],
   "source": [
    "chunks = [chunk.strip() for chunk in s.split(f.separator)]\n",
    "time_length = None\n",
    "time = None\n",
    "for section, message in zip(sections, chunks):\n",
    "    print(f'{section}: {message}')\n",
    "    # Length of time string will be uniform so adaptively read it.\n",
    "    if 'asctime' in section:\n",
    "        time = message\n",
    "        time_length = len(message) + 2  # add the space and divisor\n",
    "time_length"
   ]
  },
  {
   "cell_type": "code",
   "execution_count": 10,
   "metadata": {},
   "outputs": [
    {
     "data": {
      "text/plain": [
       "'01:25:33'"
      ]
     },
     "execution_count": 10,
     "metadata": {},
     "output_type": "execute_result"
    }
   ],
   "source": [
    "time"
   ]
  },
  {
   "cell_type": "code",
   "execution_count": 14,
   "metadata": {},
   "outputs": [
    {
     "data": {
      "text/plain": [
       "{'name': 12,\n",
       " 'funcName': 13,\n",
       " 'module': 25,\n",
       " 'pathname': 40,\n",
       " 'lineNo': 4,\n",
       " 'thread': 4,\n",
       " 'threadName': 10}"
      ]
     },
     "execution_count": 14,
     "metadata": {},
     "output_type": "execute_result"
    }
   ],
   "source": [
    "f.padding_dict"
   ]
  },
  {
   "cell_type": "code",
   "execution_count": null,
   "metadata": {},
   "outputs": [],
   "source": []
  }
 ],
 "metadata": {
  "kernelspec": {
   "display_name": "timbermafia",
   "language": "python",
   "name": "timbermafia"
  },
  "language_info": {
   "codemirror_mode": {
    "name": "ipython",
    "version": 3
   },
   "file_extension": ".py",
   "mimetype": "text/x-python",
   "name": "python",
   "nbconvert_exporter": "python",
   "pygments_lexer": "ipython3",
   "version": "3.8.1"
  }
 },
 "nbformat": 4,
 "nbformat_minor": 2
}
