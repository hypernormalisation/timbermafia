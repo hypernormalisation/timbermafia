{
 "cells": [
  {
   "cell_type": "code",
   "execution_count": 1,
   "metadata": {},
   "outputs": [],
   "source": [
    "# import timbermafia\n",
    "import logging"
   ]
  },
  {
   "cell_type": "code",
   "execution_count": 2,
   "metadata": {},
   "outputs": [],
   "source": [
    "lorem = \"Lorem ipsum dolor sit amet, consectetur adipiscing elit, sed do eiusmod tempor incididunt ut labore et dolore magna aliqua. Ut enim ad minim veniam, quis nostrud exercitation ullamco laboris nisi ut aliquip ex ea commodo consequat. Duis aute irure dolor in reprehenderit in voluptate velit esse cillum dolore eu fugiat nulla pariatur. Excepteur sint occaecat cupidatat non proident, sunt in culpa qui officia deserunt mollit anim id est laborum.\""
   ]
  },
  {
   "cell_type": "code",
   "execution_count": 3,
   "metadata": {},
   "outputs": [],
   "source": [
    "# log = logging.getLogger('timbermafia')"
   ]
  },
  {
   "cell_type": "code",
   "execution_count": 4,
   "metadata": {},
   "outputs": [],
   "source": [
    "# log.info('test')\n",
    "# log.error('i found something')\n",
    "# log.debug('another test')\n",
    "# log.warning(lorem)"
   ]
  },
  {
   "cell_type": "code",
   "execution_count": 5,
   "metadata": {},
   "outputs": [],
   "source": [
    "# class Template(timbermafia.Logged):\n",
    "#     \"\"\"\"\"\"\n",
    "# A = Template()\n",
    "# A.log.info('Test logging coming from inside a class')\n",
    "# timbermafia.test_func_log()\n",
    "# timbermafia.test_func_log2()"
   ]
  },
  {
   "cell_type": "code",
   "execution_count": 12,
   "metadata": {},
   "outputs": [
    {
     "data": {
      "text/plain": [
       "'root'"
      ]
     },
     "execution_count": 12,
     "metadata": {},
     "output_type": "execute_result"
    },
    {
     "name": "stderr",
     "output_type": "stream",
     "text": [
      "TEST\n"
     ]
    }
   ],
   "source": [
    "from logging import root\n",
    "root.name\n",
    "root.info('SHOULD NOT SEE')\n",
    "root.warning('TEST')\n",
    "# def configure_log():\n",
    "    "
   ]
  },
  {
   "cell_type": "code",
   "execution_count": 21,
   "metadata": {},
   "outputs": [
    {
     "ename": "ValueError",
     "evalue": "\"style\" must be one of default, test1",
     "output_type": "error",
     "traceback": [
      "\u001b[0;31m---------------------------------------------------------------------------\u001b[0m",
      "\u001b[0;31mValueError\u001b[0m                                Traceback (most recent call last)",
      "\u001b[0;32m<ipython-input-21-4f1699d96808>\u001b[0m in \u001b[0;36m<module>\u001b[0;34m\u001b[0m\n\u001b[1;32m      9\u001b[0m         \u001b[0;32mraise\u001b[0m \u001b[0mValueError\u001b[0m\u001b[0;34m(\u001b[0m\u001b[0;34mf'\"style\" must be one of {\", \".join(_valid_styles)}'\u001b[0m\u001b[0;34m)\u001b[0m\u001b[0;34m\u001b[0m\u001b[0;34m\u001b[0m\u001b[0m\n\u001b[1;32m     10\u001b[0m \u001b[0;34m\u001b[0m\u001b[0m\n\u001b[0;32m---> 11\u001b[0;31m \u001b[0mconfigure_root_logger\u001b[0m\u001b[0;34m(\u001b[0m\u001b[0mstyle\u001b[0m\u001b[0;34m=\u001b[0m\u001b[0;34m'bad'\u001b[0m\u001b[0;34m)\u001b[0m\u001b[0;34m\u001b[0m\u001b[0;34m\u001b[0m\u001b[0m\n\u001b[0m",
      "\u001b[0;32m<ipython-input-21-4f1699d96808>\u001b[0m in \u001b[0;36mconfigure_root_logger\u001b[0;34m(*args, **kwargs)\u001b[0m\n\u001b[1;32m      7\u001b[0m     \u001b[0mstyle\u001b[0m \u001b[0;34m=\u001b[0m \u001b[0mkwargs\u001b[0m\u001b[0;34m.\u001b[0m\u001b[0mget\u001b[0m\u001b[0;34m(\u001b[0m\u001b[0;34m'style'\u001b[0m\u001b[0;34m,\u001b[0m \u001b[0;34m'default'\u001b[0m\u001b[0;34m)\u001b[0m\u001b[0;34m\u001b[0m\u001b[0;34m\u001b[0m\u001b[0m\n\u001b[1;32m      8\u001b[0m     \u001b[0;32mif\u001b[0m \u001b[0mstyle\u001b[0m \u001b[0;32mnot\u001b[0m \u001b[0;32min\u001b[0m \u001b[0m_valid_styles\u001b[0m\u001b[0;34m:\u001b[0m\u001b[0;34m\u001b[0m\u001b[0;34m\u001b[0m\u001b[0m\n\u001b[0;32m----> 9\u001b[0;31m         \u001b[0;32mraise\u001b[0m \u001b[0mValueError\u001b[0m\u001b[0;34m(\u001b[0m\u001b[0;34mf'\"style\" must be one of {\", \".join(_valid_styles)}'\u001b[0m\u001b[0;34m)\u001b[0m\u001b[0;34m\u001b[0m\u001b[0;34m\u001b[0m\u001b[0m\n\u001b[0m\u001b[1;32m     10\u001b[0m \u001b[0;34m\u001b[0m\u001b[0m\n\u001b[1;32m     11\u001b[0m \u001b[0mconfigure_root_logger\u001b[0m\u001b[0;34m(\u001b[0m\u001b[0mstyle\u001b[0m\u001b[0;34m=\u001b[0m\u001b[0;34m'bad'\u001b[0m\u001b[0;34m)\u001b[0m\u001b[0;34m\u001b[0m\u001b[0;34m\u001b[0m\u001b[0m\n",
      "\u001b[0;31mValueError\u001b[0m: \"style\" must be one of default, test1"
     ]
    }
   ],
   "source": [
    "_valid_styles = ['default', 'test1']\n",
    "\n",
    "def configure_root_logger(*args, **kwargs):\n",
    "    \"\"\"Function to configure the root logger in logging, analagously to logging.basicConfig\"\"\"\n",
    "    \n",
    "    # Pre-determined style\n",
    "    style = kwargs.get('style', 'default')\n",
    "    if style not in _valid_styles:\n",
    "        raise ValueError(f'\"style\" must be one of {\", \".join(_valid_styles)}')\n",
    "        \n",
    "configure_root_logger(style='bad') "
   ]
  },
  {
   "cell_type": "code",
   "execution_count": 17,
   "metadata": {},
   "outputs": [
    {
     "name": "stdout",
     "output_type": "stream",
     "text": [
      "Help on RootLogger in module logging object:\n",
      "\n",
      "class RootLogger(Logger)\n",
      " |  RootLogger(level)\n",
      " |  \n",
      " |  A root logger is not that different to any other logger, except that\n",
      " |  it must have a logging level and there is only one instance of it in\n",
      " |  the hierarchy.\n",
      " |  \n",
      " |  Method resolution order:\n",
      " |      RootLogger\n",
      " |      Logger\n",
      " |      Filterer\n",
      " |      builtins.object\n",
      " |  \n",
      " |  Methods defined here:\n",
      " |  \n",
      " |  __init__(self, level)\n",
      " |      Initialize the logger with the name \"root\".\n",
      " |  \n",
      " |  __reduce__(self)\n",
      " |      Helper for pickle.\n",
      " |  \n",
      " |  ----------------------------------------------------------------------\n",
      " |  Methods inherited from Logger:\n",
      " |  \n",
      " |  __repr__(self)\n",
      " |      Return repr(self).\n",
      " |  \n",
      " |  addHandler(self, hdlr)\n",
      " |      Add the specified handler to this logger.\n",
      " |  \n",
      " |  callHandlers(self, record)\n",
      " |      Pass a record to all relevant handlers.\n",
      " |      \n",
      " |      Loop through all handlers for this logger and its parents in the\n",
      " |      logger hierarchy. If no handler was found, output a one-off error\n",
      " |      message to sys.stderr. Stop searching up the hierarchy whenever a\n",
      " |      logger with the \"propagate\" attribute set to zero is found - that\n",
      " |      will be the last logger whose handlers are called.\n",
      " |  \n",
      " |  critical(self, msg, *args, **kwargs)\n",
      " |      Log 'msg % args' with severity 'CRITICAL'.\n",
      " |      \n",
      " |      To pass exception information, use the keyword argument exc_info with\n",
      " |      a true value, e.g.\n",
      " |      \n",
      " |      logger.critical(\"Houston, we have a %s\", \"major disaster\", exc_info=1)\n",
      " |  \n",
      " |  debug(self, msg, *args, **kwargs)\n",
      " |      Log 'msg % args' with severity 'DEBUG'.\n",
      " |      \n",
      " |      To pass exception information, use the keyword argument exc_info with\n",
      " |      a true value, e.g.\n",
      " |      \n",
      " |      logger.debug(\"Houston, we have a %s\", \"thorny problem\", exc_info=1)\n",
      " |  \n",
      " |  error(self, msg, *args, **kwargs)\n",
      " |      Log 'msg % args' with severity 'ERROR'.\n",
      " |      \n",
      " |      To pass exception information, use the keyword argument exc_info with\n",
      " |      a true value, e.g.\n",
      " |      \n",
      " |      logger.error(\"Houston, we have a %s\", \"major problem\", exc_info=1)\n",
      " |  \n",
      " |  exception(self, msg, *args, exc_info=True, **kwargs)\n",
      " |      Convenience method for logging an ERROR with exception information.\n",
      " |  \n",
      " |  fatal = critical(self, msg, *args, **kwargs)\n",
      " |  \n",
      " |  findCaller(self, stack_info=False, stacklevel=1)\n",
      " |      Find the stack frame of the caller so that we can note the source\n",
      " |      file name, line number and function name.\n",
      " |  \n",
      " |  getChild(self, suffix)\n",
      " |      Get a logger which is a descendant to this one.\n",
      " |      \n",
      " |      This is a convenience method, such that\n",
      " |      \n",
      " |      logging.getLogger('abc').getChild('def.ghi')\n",
      " |      \n",
      " |      is the same as\n",
      " |      \n",
      " |      logging.getLogger('abc.def.ghi')\n",
      " |      \n",
      " |      It's useful, for example, when the parent logger is named using\n",
      " |      __name__ rather than a literal string.\n",
      " |  \n",
      " |  getEffectiveLevel(self)\n",
      " |      Get the effective level for this logger.\n",
      " |      \n",
      " |      Loop through this logger and its parents in the logger hierarchy,\n",
      " |      looking for a non-zero logging level. Return the first one found.\n",
      " |  \n",
      " |  handle(self, record)\n",
      " |      Call the handlers for the specified record.\n",
      " |      \n",
      " |      This method is used for unpickled records received from a socket, as\n",
      " |      well as those created locally. Logger-level filtering is applied.\n",
      " |  \n",
      " |  hasHandlers(self)\n",
      " |      See if this logger has any handlers configured.\n",
      " |      \n",
      " |      Loop through all handlers for this logger and its parents in the\n",
      " |      logger hierarchy. Return True if a handler was found, else False.\n",
      " |      Stop searching up the hierarchy whenever a logger with the \"propagate\"\n",
      " |      attribute set to zero is found - that will be the last logger which\n",
      " |      is checked for the existence of handlers.\n",
      " |  \n",
      " |  info(self, msg, *args, **kwargs)\n",
      " |      Log 'msg % args' with severity 'INFO'.\n",
      " |      \n",
      " |      To pass exception information, use the keyword argument exc_info with\n",
      " |      a true value, e.g.\n",
      " |      \n",
      " |      logger.info(\"Houston, we have a %s\", \"interesting problem\", exc_info=1)\n",
      " |  \n",
      " |  isEnabledFor(self, level)\n",
      " |      Is this logger enabled for level 'level'?\n",
      " |  \n",
      " |  log(self, level, msg, *args, **kwargs)\n",
      " |      Log 'msg % args' with the integer severity 'level'.\n",
      " |      \n",
      " |      To pass exception information, use the keyword argument exc_info with\n",
      " |      a true value, e.g.\n",
      " |      \n",
      " |      logger.log(level, \"We have a %s\", \"mysterious problem\", exc_info=1)\n",
      " |  \n",
      " |  makeRecord(self, name, level, fn, lno, msg, args, exc_info, func=None, extra=None, sinfo=None)\n",
      " |      A factory method which can be overridden in subclasses to create\n",
      " |      specialized LogRecords.\n",
      " |  \n",
      " |  removeHandler(self, hdlr)\n",
      " |      Remove the specified handler from this logger.\n",
      " |  \n",
      " |  setLevel(self, level)\n",
      " |      Set the logging level of this logger.  level must be an int or a str.\n",
      " |  \n",
      " |  warn(self, msg, *args, **kwargs)\n",
      " |  \n",
      " |  warning(self, msg, *args, **kwargs)\n",
      " |      Log 'msg % args' with severity 'WARNING'.\n",
      " |      \n",
      " |      To pass exception information, use the keyword argument exc_info with\n",
      " |      a true value, e.g.\n",
      " |      \n",
      " |      logger.warning(\"Houston, we have a %s\", \"bit of a problem\", exc_info=1)\n",
      " |  \n",
      " |  ----------------------------------------------------------------------\n",
      " |  Data and other attributes inherited from Logger:\n",
      " |  \n",
      " |  manager = <logging.Manager object>\n",
      " |  \n",
      " |  root = <RootLogger root (WARNING)>\n",
      " |  \n",
      " |  ----------------------------------------------------------------------\n",
      " |  Methods inherited from Filterer:\n",
      " |  \n",
      " |  addFilter(self, filter)\n",
      " |      Add the specified filter to this handler.\n",
      " |  \n",
      " |  filter(self, record)\n",
      " |      Determine if a record is loggable by consulting all the filters.\n",
      " |      \n",
      " |      The default is to allow the record to be logged; any filter can veto\n",
      " |      this and the record is then dropped. Returns a zero value if a record\n",
      " |      is to be dropped, else non-zero.\n",
      " |      \n",
      " |      .. versionchanged:: 3.2\n",
      " |      \n",
      " |         Allow filters to be just callables.\n",
      " |  \n",
      " |  removeFilter(self, filter)\n",
      " |      Remove the specified filter from this handler.\n",
      " |  \n",
      " |  ----------------------------------------------------------------------\n",
      " |  Data descriptors inherited from Filterer:\n",
      " |  \n",
      " |  __dict__\n",
      " |      dictionary for instance variables (if defined)\n",
      " |  \n",
      " |  __weakref__\n",
      " |      list of weak references to the object (if defined)\n",
      "\n"
     ]
    }
   ],
   "source": [
    "help(root)"
   ]
  },
  {
   "cell_type": "code",
   "execution_count": 13,
   "metadata": {},
   "outputs": [],
   "source": [
    "log = logging.getLogger('mylog')"
   ]
  },
  {
   "cell_type": "code",
   "execution_count": 15,
   "metadata": {},
   "outputs": [
    {
     "data": {
      "text/plain": [
       "<RootLogger root (WARNING)>"
      ]
     },
     "execution_count": 15,
     "metadata": {},
     "output_type": "execute_result"
    }
   ],
   "source": [
    "log.parent"
   ]
  },
  {
   "cell_type": "code",
   "execution_count": 16,
   "metadata": {},
   "outputs": [
    {
     "data": {
      "text/plain": [
       "<Logger mylog (WARNING)>"
      ]
     },
     "execution_count": 16,
     "metadata": {},
     "output_type": "execute_result"
    }
   ],
   "source": [
    "log2 = logging.getLogger('mylog.child')\n",
    "log2.parent"
   ]
  },
  {
   "cell_type": "code",
   "execution_count": null,
   "metadata": {},
   "outputs": [],
   "source": []
  }
 ],
 "metadata": {
  "kernelspec": {
   "display_name": "timbermafia",
   "language": "python",
   "name": "timbermafia"
  },
  "language_info": {
   "codemirror_mode": {
    "name": "ipython",
    "version": 3
   },
   "file_extension": ".py",
   "mimetype": "text/x-python",
   "name": "python",
   "nbconvert_exporter": "python",
   "pygments_lexer": "ipython3",
   "version": "3.8.1"
  }
 },
 "nbformat": 4,
 "nbformat_minor": 2
}
