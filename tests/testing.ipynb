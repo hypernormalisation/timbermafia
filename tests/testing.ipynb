{
 "cells": [
  {
   "cell_type": "code",
   "execution_count": 5,
   "metadata": {},
   "outputs": [],
   "source": [
    "# import timbermafia\n",
    "import logging\n",
    "import re\n",
    "import sys\n",
    "lorem = \"Lorem ipsum dolor sit amet, consectetur adipiscing elit, sed do eiusmod tempor incididunt ut labore et dolore magna aliqua. Ut enim ad minim veniam, quis nostrud exercitation ullamco laboris nisi ut aliquip ex ea commodo consequat. Duis aute irure dolor in reprehenderit in voluptate velit esse cillum dolore eu fugiat nulla pariatur. Excepteur sint occaecat cupidatat non proident, sunt in culpa qui officia deserunt mollit anim id est laborum.\"\n",
    "s = '\\\\x1b[38;5;214m\\\\x1b[4m04:56:22\\\\x1b[0m\\\\x1b[38;5;214m   MyClass.function_with_a_very_very_long_name >> \\\\x1b[38;5;15m\\\\x1b[1mName filename like /tmp/test.db and also /tmp/test2.db for good measure'"
   ]
  },
  {
   "cell_type": "code",
   "execution_count": 9,
   "metadata": {},
   "outputs": [
    {
     "data": {
      "text/plain": [
       "['/tmp/test.db', '/tmp/test2.db']"
      ]
     },
     "execution_count": 9,
     "metadata": {},
     "output_type": "execute_result"
    },
    {
     "name": "stdout",
     "output_type": "stream",
     "text": [
      "136\n"
     ]
    },
    {
     "data": {
      "text/plain": [
       "'\\\\x1b[38;5;214m\\\\x1b[4m04:56:22\\\\x1b[0m\\\\x1b[38;5;214m   MyClass.function_with_a_very_very_long_name >> \\\\x1b[38;5;15m\\\\x1b[1mA filename like '"
      ]
     },
     "execution_count": 9,
     "metadata": {},
     "output_type": "execute_result"
    },
    {
     "name": "stdout",
     "output_type": "stream",
     "text": [
      "\\x1b[38;5;214m\\x1b[4m04:56:22\\x1b[0m\\x1b[38;5;214m   MyClass.function_with_a_very_very_long_name >> \\x1b[38;5;15m\\x1b[1mA filenam\n"
     ]
    },
    {
     "data": {
      "text/plain": [
       "['\\\\x1b[38;5;214m\\\\x1b[4m04:56:22\\\\x1b[0m\\\\x1b[38;5;214m',\n",
       " '\\\\x1b[38;5;15m\\\\x1b[1m']"
      ]
     },
     "execution_count": 9,
     "metadata": {},
     "output_type": "execute_result"
    }
   ],
   "source": [
    "files = re.findall('/[^\\s]+', s)\n",
    "files\n",
    "for f in files:\n",
    "    index = s.find(f)\n",
    "    print(index)\n",
    "    s2 = s[:index]\n",
    "    s2\n",
    "    m = re.match('\\\\\\\\x1b.*m', s2)\n",
    "    print(m.group())\n",
    "    break\n",
    "    \n",
    "re.findall('\\\\\\\\x1b[^\\s]+m', s)"
   ]
  },
  {
   "cell_type": "code",
   "execution_count": 10,
   "metadata": {},
   "outputs": [
    {
     "name": "stdout",
     "output_type": "stream",
     "text": [
      "b'\\\\x1b[0m'\n"
     ]
    }
   ],
   "source": [
    "RESET = '\\033[0m'\n",
    "print(RESET.encode('unicode-escape'))"
   ]
  },
  {
   "cell_type": "code",
   "execution_count": 31,
   "metadata": {},
   "outputs": [
    {
     "name": "stdout",
     "output_type": "stream",
     "text": [
      "b'\\\\x1b[38;5;214m\\\\x1b[4m04:56:22\\\\x1b[0m\\\\x1b[38;5;214m   MyClass.function_with_a_very_very_long_name >> \\\\x1b[38;5;15m\\\\x1b[1mA filename like '\n",
      "<re.Match object; span=(0, 50), match=b'\\\\x1b[38;5;214m\\\\x1b[4m04:56:22\\\\x1b[0m\\\\x1b[38;>\n",
      "None\n"
     ]
    },
    {
     "data": {
      "text/plain": [
       "<re.Match object; span=(0, 50), match=b'\\\\x1b[38;5;214m\\\\x1b[4m04:56:22\\\\x1b[0m\\\\x1b[38;>"
      ]
     },
     "execution_count": 31,
     "metadata": {},
     "output_type": "execute_result"
    }
   ],
   "source": [
    "def get_last_match(pattern, s):\n",
    "    last_match = None\n",
    "    print(s)\n",
    "    m = re.match(b'\\\\\\\\x1b[^\\s]+m', s)\n",
    "    print(m)\n",
    "    while m:\n",
    "        index = m.span()[1]\n",
    "        s = s[index:]\n",
    "        last_match = m\n",
    "        m = re.match(b'\\\\\\\\x1b[^\\s]+m', s)\n",
    "        print(m)\n",
    "    return last_match\n",
    "\n",
    "l = get_last_match(b'\\\\\\\\x1b[^\\s]+(?!', s)\n",
    "l\n"
   ]
  },
  {
   "cell_type": "code",
   "execution_count": 22,
   "metadata": {},
   "outputs": [
    {
     "name": "stdout",
     "output_type": "stream",
     "text": [
      "b'\\\\x1b[38;5;214m\\\\x1b[4m04:56:22\\\\x1b[0m\\\\x1b[38;5;214m   MyClass.function_with_a_very_very_long_name >> \\\\x1b[38;5;15m\\\\x1b[1mA filename like '\n"
     ]
    },
    {
     "ename": "NameError",
     "evalue": "name 'i' is not defined",
     "output_type": "error",
     "traceback": [
      "\u001b[0;31m---------------------------------------------------------------------------\u001b[0m",
      "\u001b[0;31mNameError\u001b[0m                                 Traceback (most recent call last)",
      "\u001b[0;32m<ipython-input-22-fa7322ca70a7>\u001b[0m in \u001b[0;36m<module>\u001b[0;34m\u001b[0m\n\u001b[0;32m----> 1\u001b[0;31m \u001b[0mget_last_match\u001b[0m\u001b[0;34m(\u001b[0m\u001b[0;34mb'\\\\\\\\x1b[^\\s]+(?!'\u001b[0m\u001b[0;34m,\u001b[0m \u001b[0ms\u001b[0m\u001b[0;34m)\u001b[0m\u001b[0;34m\u001b[0m\u001b[0;34m\u001b[0m\u001b[0m\n\u001b[0m",
      "\u001b[0;32m<ipython-input-21-54e9dab39c2e>\u001b[0m in \u001b[0;36mget_last_match\u001b[0;34m(pattern, s)\u001b[0m\n\u001b[1;32m      3\u001b[0m     \u001b[0mm\u001b[0m \u001b[0;34m=\u001b[0m \u001b[0mre\u001b[0m\u001b[0;34m.\u001b[0m\u001b[0mmatch\u001b[0m\u001b[0;34m(\u001b[0m\u001b[0;34mb'\\\\\\\\x1b[^\\s]+'\u001b[0m\u001b[0;34m,\u001b[0m \u001b[0ms\u001b[0m\u001b[0;34m)\u001b[0m\u001b[0;34m\u001b[0m\u001b[0;34m\u001b[0m\u001b[0m\n\u001b[1;32m      4\u001b[0m     \u001b[0mindex\u001b[0m \u001b[0;34m=\u001b[0m \u001b[0mm\u001b[0m\u001b[0;34m.\u001b[0m\u001b[0mspan\u001b[0m\u001b[0;34m(\u001b[0m\u001b[0;34m)\u001b[0m\u001b[0;34m[\u001b[0m\u001b[0;36m1\u001b[0m\u001b[0;34m]\u001b[0m\u001b[0;34m\u001b[0m\u001b[0;34m\u001b[0m\u001b[0m\n\u001b[0;32m----> 5\u001b[0;31m     \u001b[0mprint\u001b[0m\u001b[0;34m(\u001b[0m\u001b[0ms\u001b[0m\u001b[0;34m[\u001b[0m\u001b[0;34m:\u001b[0m\u001b[0mi\u001b[0m\u001b[0;34m]\u001b[0m\u001b[0;34m)\u001b[0m\u001b[0;34m\u001b[0m\u001b[0;34m\u001b[0m\u001b[0m\n\u001b[0m",
      "\u001b[0;31mNameError\u001b[0m: name 'i' is not defined"
     ]
    }
   ],
   "source": []
  },
  {
   "cell_type": "code",
   "execution_count": null,
   "metadata": {},
   "outputs": [],
   "source": []
  },
  {
   "cell_type": "code",
   "execution_count": null,
   "metadata": {},
   "outputs": [],
   "source": []
  }
 ],
 "metadata": {
  "kernelspec": {
   "display_name": "timbermafia",
   "language": "python",
   "name": "timbermafia"
  },
  "language_info": {
   "codemirror_mode": {
    "name": "ipython",
    "version": 3
   },
   "file_extension": ".py",
   "mimetype": "text/x-python",
   "name": "python",
   "nbconvert_exporter": "python",
   "pygments_lexer": "ipython3",
   "version": "3.8.1"
  }
 },
 "nbformat": 4,
 "nbformat_minor": 2
}
