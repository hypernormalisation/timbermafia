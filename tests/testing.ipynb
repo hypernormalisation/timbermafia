{
 "cells": [
  {
   "cell_type": "code",
   "execution_count": 1,
   "metadata": {},
   "outputs": [],
   "source": [
    "import timbermafia\n",
    "import logging\n",
    "import sys\n",
    "lorem = \"Lorem ipsum dolor sit amet, consectetur adipiscing elit, sed do eiusmod tempor incididunt ut labore et dolore magna aliqua. Ut enim ad minim veniam, quis nostrud exercitation ullamco laboris nisi ut aliquip ex ea commodo consequat. Duis aute irure dolor in reprehenderit in voluptate velit esse cillum dolore eu fugiat nulla pariatur. Excepteur sint occaecat cupidatat non proident, sunt in culpa qui officia deserunt mollit anim id est laborum.\""
   ]
  },
  {
   "cell_type": "code",
   "execution_count": 2,
   "metadata": {},
   "outputs": [],
   "source": [
    "timbermafia.configure(columns=120, bold=False, palette='sensible',\n",
    "                      enclose=False, show_separator=False,\n",
    "                      format='{asctime} | {levelname} | {name}.{funcName} | {message}')\n",
    "timbermafia.add_handler(stream=sys.stdout)\n",
    "\n",
    "log = logging.getLogger('testing')\n",
    "def test_log_with_a_very_long_name():\n",
    "    log.debug('test from func')"
   ]
  },
  {
   "cell_type": "code",
   "execution_count": 3,
   "metadata": {},
   "outputs": [
    {
     "name": "stderr",
     "output_type": "stream",
     "text": [
      "\u001b[38;5;255m------------------------------------------------------------------------------------------------------------------------\u001b[0m\n",
      "\u001b[38;5;255m|                                                 Timbermafia testing                                                  |\u001b[0m\n",
      "\u001b[38;5;255m------------------------------------------------------------------------------------------------------------------------\u001b[0m\n",
      "\u001b[38;5;255m06:27:26      INFO                  testing  Lorem ipsum dolor sit amet, consectetur adipiscing elit, sed do eiusmod    \u001b[0m\n",
      "\u001b[38;5;255m                                             tempor incididunt ut labore et dolore magna aliqua. Ut enim ad minim veniam\n",
      "                                             quis nostrud exercitation ullamco laboris nisi ut aliquip ex ea commodo    \n",
      "                                             consequat. Duis aute irure dolor in reprehenderit in voluptate velit esse  \n",
      "                                             cillum dolore eu fugiat nulla pariatur. Excepteur sint occaecat cupidatat  \n",
      "                                             non proident, sunt in culpa qui officia deserunt mollit anim id est laborum\u001b[0m\n",
      "\u001b[38;5;255m06:27:26      INFO                  testing  This looks like a filename: \u001b[38;5;184m/tmp/a_file.db\u001b[0m                                 \u001b[0m\n",
      "\u001b[38;5;255m06:27:26      INFO                  testing  This looks like a url: \u001b[38;5;44mhttps://someaddress.com\u001b[0m                             \u001b[0m\n",
      "\u001b[38;5;33m06:27:26     DEBUG                  testing  a debug message                                                            \u001b[0m\n",
      "\u001b[38;5;214m06:27:26   WARNING                  testing  a warning message                                                          \u001b[0m\n",
      "\u001b[38;5;196m06:27:26     ERROR                  testing  found error fdsjkabgfsdjkabngjksdbagnasngjkasngjkasdngjknsd we can recover \u001b[0m\n",
      "\u001b[38;5;196m                                             from                                                                       \u001b[0m\n",
      "\u001b[48;5;52m\u001b[38;5;40m06:27:26  CRITICAL                  testing  encountered a fatal error                                                  \u001b[0m\n",
      "\u001b[38;5;255m06:27:26      INFO                  testing  Message containing separators like | @ $ etc are unaffected in messages    \u001b[0m\n",
      "\u001b[38;5;33m06:27:26     DEBUG  ...ith_a_very_long_name  test from func                                                             \u001b[0m\n"
     ]
    },
    {
     "name": "stdout",
     "output_type": "stream",
     "text": [
      "Lorem ipsum dolor sit amet, consectetur adipiscing elit, sed do eiusmod tempor incididunt ut labore et dolore magna aliqua. Ut enim ad minim veniam, quis nostrud exercitation ullamco laboris nisi ut aliquip ex ea commodo consequat. Duis aute irure dolor in reprehenderit in voluptate velit esse cillum dolore eu fugiat nulla pariatur. Excepteur sint occaecat cupidatat non proident, sunt in culpa qui officia deserunt mollit anim id est laborum.\n"
     ]
    }
   ],
   "source": [
    "log.header('Timbermafia testing')\n",
    "log.info(lorem)\n",
    "log.info('This looks like a filename: /tmp/a_file.db')\n",
    "log.info('This looks like a url: https://someaddress.com')\n",
    "\n",
    "log.debug('a debug message')\n",
    "log.warning('a warning message')\n",
    "log.error('found error fdsjkabgfsdjkabngjksdbagnasngjkasngjkasdngjknsd we can recover from')\n",
    "log.fatal('encountered a fatal error')\n",
    "log.info('Message containing separators like | @ $ etc are unaffected in messages')\n",
    "test_log_with_a_very_long_name()\n",
    "print(lorem)"
   ]
  },
  {
   "cell_type": "code",
   "execution_count": 4,
   "metadata": {},
   "outputs": [
    {
     "data": {
      "text/plain": [
       "'{asctime} | {levelname} | {name}.{funcName} | {message}'"
      ]
     },
     "execution_count": 4,
     "metadata": {},
     "output_type": "execute_result"
    },
    {
     "data": {
      "text/plain": [
       "'|'"
      ]
     },
     "execution_count": 4,
     "metadata": {},
     "output_type": "execute_result"
    }
   ],
   "source": [
    "f = log.parent.handlers[0].formatter\n",
    "f._fmt\n",
    "f.separator"
   ]
  },
  {
   "cell_type": "code",
   "execution_count": 5,
   "metadata": {},
   "outputs": [
    {
     "data": {
      "text/plain": [
       "'my title'"
      ]
     },
     "execution_count": 5,
     "metadata": {},
     "output_type": "execute_result"
    },
    {
     "data": {
      "text/plain": [
       "1582525646.6715283"
      ]
     },
     "execution_count": 5,
     "metadata": {},
     "output_type": "execute_result"
    }
   ],
   "source": [
    "l = logging.LogRecord('name', logging.DEBUG, '', 21, 'my title', [], False, func='my_func')\n",
    "l.getMessage()\n",
    "l.created"
   ]
  },
  {
   "cell_type": "code",
   "execution_count": null,
   "metadata": {},
   "outputs": [],
   "source": []
  }
 ],
 "metadata": {
  "kernelspec": {
   "display_name": "timbermafia",
   "language": "python",
   "name": "timbermafia"
  },
  "language_info": {
   "codemirror_mode": {
    "name": "ipython",
    "version": 3
   },
   "file_extension": ".py",
   "mimetype": "text/x-python",
   "name": "python",
   "nbconvert_exporter": "python",
   "pygments_lexer": "ipython3",
   "version": "3.8.1"
  }
 },
 "nbformat": 4,
 "nbformat_minor": 2
}
