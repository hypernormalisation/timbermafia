{
 "cells": [
  {
   "cell_type": "code",
   "execution_count": 1,
   "metadata": {},
   "outputs": [],
   "source": [
    "# import timbermafia\n",
    "import logging\n",
    "import re\n",
    "import sys\n",
    "lorem = \"Lorem ipsum dolor sit amet, consectetur adipiscing elit, sed do eiusmod tempor incididunt ut labore et dolore magna aliqua. Ut enim ad minim veniam, quis nostrud exercitation ullamco laboris nisi ut aliquip ex ea commodo consequat. Duis aute irure dolor in reprehenderit in voluptate velit esse cillum dolore eu fugiat nulla pariatur. Excepteur sint occaecat cupidatat non proident, sunt in culpa qui officia deserunt mollit anim id est laborum.\"\n",
    "def test_log_with_a_very_long_name():\n",
    "    log.debug('test from func')\n",
    "replacer_flag = 'timbermafia_replacer_f0df7d32d480'\n",
    "\n",
    "# class MyClass(timbermafia.Logged):\n",
    "#     def status(self):\n",
    "#         self.log.info(f'logging from {self.__class__.__name__} in the function status')"
   ]
  },
  {
   "cell_type": "code",
   "execution_count": 90,
   "metadata": {},
   "outputs": [
    {
     "data": {
      "text/plain": [
       "['__{|}',\n",
       " ' __{c}',\n",
       " ' {asctime} _{|}',\n",
       " ' {level} _{}',\n",
       " ' {name}.{funcName} __{>>}']"
      ]
     },
     "execution_count": 90,
     "metadata": {},
     "output_type": "execute_result"
    },
    {
     "name": "stdout",
     "output_type": "stream",
     "text": [
      "not all accounted for\n",
      " {message}\n"
     ]
    },
    {
     "data": {
      "text/plain": [
       "['__{|}',\n",
       " ' __{c}',\n",
       " ' {asctime} _{|}',\n",
       " ' {level} _{}',\n",
       " ' {name}.{funcName} __{>>}',\n",
       " ' {message}']"
      ]
     },
     "execution_count": 90,
     "metadata": {},
     "output_type": "execute_result"
    }
   ],
   "source": [
    "s1 = '__{|} __{c} {asctime} _{|} {level} _{} {name}.{funcName} __{>>} {message}'\n",
    "\n",
    "# Get a list of all regex matches for anything before a _{} deliminator\n",
    "myre = '.*?_+{.*?}'\n",
    "myre_greedy = '.*?_+{.*}'\n",
    "l1 = re.findall(myre, s1)\n",
    "l1\n",
    "found = ''.join(l1)\n",
    "\n",
    "# My shitty regex means an edge case where \n",
    "if found == s1:\n",
    "    print('all accounted for')\n",
    "else:\n",
    "    print('not all accounted for')\n",
    "    missed = s1.replace(found, '')\n",
    "    print(missed)\n",
    "    l1.append(missed)\n",
    "    \n",
    "l1\n"
   ]
  },
  {
   "cell_type": "code",
   "execution_count": 45,
   "metadata": {},
   "outputs": [
    {
     "data": {
      "text/plain": [
       "'__{|} {asctime} _{|} {level} _{|} {name}.{funcName} __{>>} {message}'"
      ]
     },
     "execution_count": 45,
     "metadata": {},
     "output_type": "execute_result"
    },
    {
     "data": {
      "text/plain": [
       "[]"
      ]
     },
     "execution_count": 45,
     "metadata": {},
     "output_type": "execute_result"
    }
   ],
   "source": [
    "s1\n",
    "myre2 = '_+{.*?}/^[_]*/'\n",
    "re.findall(myre2, s1)"
   ]
  },
  {
   "cell_type": "code",
   "execution_count": 56,
   "metadata": {},
   "outputs": [
    {
     "data": {
      "text/plain": [
       "['sdgdsagsd ; fsaFSDGF ; wqerwqrweqr']"
      ]
     },
     "execution_count": 56,
     "metadata": {},
     "output_type": "execute_result"
    }
   ],
   "source": [
    "re.findall(r'.+[^;]', 'sdgdsagsd ; fsaFSDGF ; wqerwqrweqr')"
   ]
  },
  {
   "cell_type": "code",
   "execution_count": 84,
   "metadata": {},
   "outputs": [
    {
     "data": {
      "text/plain": [
       "['aaaaa Z bbbbbbb Z ccccccc Z']"
      ]
     },
     "execution_count": 84,
     "metadata": {},
     "output_type": "execute_result"
    },
    {
     "data": {
      "text/plain": [
       "['Z bbbbbbb Z ccccccc Z dddddd']"
      ]
     },
     "execution_count": 84,
     "metadata": {},
     "output_type": "execute_result"
    }
   ],
   "source": [
    "s = 'aaaaa Z bbbbbbb Z ccccccc Z dddddd'\n",
    "re.findall('.+Z', s)\n",
    "re.findall('Z.+', s)"
   ]
  },
  {
   "cell_type": "code",
   "execution_count": null,
   "metadata": {},
   "outputs": [],
   "source": []
  }
 ],
 "metadata": {
  "kernelspec": {
   "display_name": "timbermafia",
   "language": "python",
   "name": "timbermafia"
  },
  "language_info": {
   "codemirror_mode": {
    "name": "ipython",
    "version": 3
   },
   "file_extension": ".py",
   "mimetype": "text/x-python",
   "name": "python",
   "nbconvert_exporter": "python",
   "pygments_lexer": "ipython3",
   "version": "3.8.1"
  }
 },
 "nbformat": 4,
 "nbformat_minor": 2
}
