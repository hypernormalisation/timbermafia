{
 "cells": [
  {
   "cell_type": "code",
   "execution_count": 1,
   "metadata": {},
   "outputs": [],
   "source": [
    "import timbermafia\n",
    "import logging\n",
    "import sys\n",
    "lorem = \"Lorem ipsum dolor sit amet, consectetur adipiscing elit, sed do eiusmod tempor incididunt ut labore et dolore magna aliqua. Ut enim ad minim veniam, quis nostrud exercitation ullamco laboris nisi ut aliquip ex ea commodo consequat. Duis aute irure dolor in reprehenderit in voluptate velit esse cillum dolore eu fugiat nulla pariatur. Excepteur sint occaecat cupidatat non proident, sunt in culpa qui officia deserunt mollit anim id est laborum.\""
   ]
  },
  {
   "cell_type": "code",
   "execution_count": 2,
   "metadata": {},
   "outputs": [],
   "source": [
    "# timbermafia.configure(columns=120, bold=False, palette='sensible',\n",
    "#                       enclose=False, show_separator=False,\n",
    "#                       format='{asctime} | {levelname} | {name}.{funcName} | {message}')\n",
    "timbermafia.configure(style='minimalist', bold=False)\n",
    "timbermafia.add_handler(stream=sys.stdout, filename='/tmp/testlog.log', clear=True)\n",
    "\n",
    "log = logging.getLogger('testing')\n",
    "def test_log_with_a_very_long_name():\n",
    "    log.debug('test from func')"
   ]
  },
  {
   "cell_type": "code",
   "execution_count": 3,
   "metadata": {},
   "outputs": [
    {
     "name": "stderr",
     "output_type": "stream",
     "text": [
      "\u001b[38;5;255m-------------------------------------------------------------------------------------------------------------------------------------\u001b[0m\n",
      "\u001b[38;5;255m|                                                        Timbermafia testing                                                        |\u001b[0m\n",
      "\u001b[38;5;255m-------------------------------------------------------------------------------------------------------------------------------------\u001b[0m\n",
      "\u001b[38;5;255m08:53:37                         testing  Lorem ipsum dolor sit amet, consectetur adipiscing elit, sed do eiusmod tempor incididunt u\u001b[0m\n",
      "\u001b[38;5;255m                                          labore et dolore magna aliqua. Ut enim ad minim veniam, quis nostrud exercitation ullamco  \n",
      "                                          laboris nisi ut aliquip ex ea commodo consequat. Duis aute irure dolor in reprehenderit in \n",
      "                                          voluptate velit esse cillum dolore eu fugiat nulla pariatur. Excepteur sint occaecat       \n",
      "                                          cupidatat non proident, sunt in culpa qui officia deserunt mollit anim id est laborum.     \u001b[0m\n",
      "\u001b[38;5;255m08:53:37                         testing  This looks like a filename: \u001b[38;5;184m/tmp/a_file.db\u001b[0m                                                 \u001b[0m\n",
      "\u001b[38;5;255m08:53:37                         testing  This looks like a url: \u001b[38;5;44mhttps://someaddress.com\u001b[0m                                             \u001b[0m\n",
      "\u001b[38;5;33m08:53:37                         testing  a debug message                                                                            \u001b[0m\n",
      "\u001b[38;5;214m08:53:37                         testing  a warning message                                                                          \u001b[0m\n",
      "\u001b[38;5;33m08:53:37  testing.test_log_with_a_very_l  test from func                                                                             \u001b[0m\n",
      "\u001b[38;5;33m                                ong_name                                                                                             \u001b[0m\n",
      "\u001b[38;5;196m08:53:37                         testing  found error fdsjkabgfsdjkabngjksgfdjgfjsgfjgfsjgfsjsdbagnasngjkasngjkasdngjknsd we can     \u001b[0m\n",
      "\u001b[38;5;196m                                          recover from                                                                               \u001b[0m\n",
      "\u001b[48;5;52m\u001b[38;5;40m08:53:37                         testing  encountered a fatal error                                                                  \u001b[0m\n",
      "\u001b[38;5;255m08:53:37                         testing  Message containing separators like | @ $ etc are unaffected in messages                    \u001b[0m\n"
     ]
    }
   ],
   "source": [
    "log.header('Timbermafia testing')\n",
    "log.info(lorem)\n",
    "log.info('This looks like a filename: /tmp/a_file.db')\n",
    "log.info('This looks like a url: https://someaddress.com')\n",
    "\n",
    "log.debug('a debug message')\n",
    "log.warning('a warning message')\n",
    "test_log_with_a_very_long_name()\n",
    "\n",
    "log.error('found error fdsjkabgfsdjkabngjksgfdjgfjsgfjgfsjgfsjsdbagnasngjkasngjkasdngjknsd we can recover from')\n",
    "log.fatal('encountered a fatal error')\n",
    "log.info('Message containing separators like | @ $ etc are unaffected in messages')"
   ]
  },
  {
   "cell_type": "code",
   "execution_count": 4,
   "metadata": {},
   "outputs": [
    {
     "data": {
      "text/plain": [
       "'{asctime} | {name}.{funcName} | {message}'"
      ]
     },
     "execution_count": 4,
     "metadata": {},
     "output_type": "execute_result"
    },
    {
     "data": {
      "text/plain": [
       "'|'"
      ]
     },
     "execution_count": 4,
     "metadata": {},
     "output_type": "execute_result"
    }
   ],
   "source": [
    "f = log.parent.handlers[0].formatter\n",
    "f._fmt\n",
    "f.separator"
   ]
  },
  {
   "cell_type": "code",
   "execution_count": 5,
   "metadata": {},
   "outputs": [
    {
     "data": {
      "text/plain": [
       "'my title'"
      ]
     },
     "execution_count": 5,
     "metadata": {},
     "output_type": "execute_result"
    },
    {
     "data": {
      "text/plain": [
       "1582534417.1948621"
      ]
     },
     "execution_count": 5,
     "metadata": {},
     "output_type": "execute_result"
    }
   ],
   "source": [
    "l = logging.LogRecord('name', logging.DEBUG, '', 21, 'my title', [], False, func='my_func')\n",
    "l.getMessage()\n",
    "l.created"
   ]
  },
  {
   "cell_type": "code",
   "execution_count": null,
   "metadata": {},
   "outputs": [],
   "source": []
  }
 ],
 "metadata": {
  "kernelspec": {
   "display_name": "timbermafia",
   "language": "python",
   "name": "timbermafia"
  },
  "language_info": {
   "codemirror_mode": {
    "name": "ipython",
    "version": 3
   },
   "file_extension": ".py",
   "mimetype": "text/x-python",
   "name": "python",
   "nbconvert_exporter": "python",
   "pygments_lexer": "ipython3",
   "version": "3.8.1"
  }
 },
 "nbformat": 4,
 "nbformat_minor": 2
}
