{
 "cells": [
  {
   "cell_type": "markdown",
   "metadata": {},
   "source": [
    "# Timbermafia styles and palettes\n",
    "\n",
    "*NOTE: Github's Jupyter notebook rendering will not display output text with the\n",
    "      appropriate colours. Run this notebook locally for best effects.*\n",
    "\n",
    "In this notebook we will first demonstrate the pre-packaged styles and palettes.\n",
    "\n",
    "We will then describe what a style and palette can do in timbermafia, and create custom\n",
    "versions of each of these and show how to have timbermafia use them in its configuration."
   ]
  },
  {
   "cell_type": "code",
   "execution_count": 1,
   "metadata": {},
   "outputs": [],
   "source": [
    "# Some imports first\n",
    "import logging\n",
    "import timbermafia as tm\n",
    "log = logging.getLogger('mylog')"
   ]
  },
  {
   "cell_type": "markdown",
   "metadata": {},
   "source": [
    "## Preset styles\n",
    "\n",
    "The preset styles can be seen with the following:"
   ]
  },
  {
   "cell_type": "code",
   "execution_count": 2,
   "metadata": {},
   "outputs": [
    {
     "name": "stdout",
     "output_type": "stream",
     "text": [
      "- Preset styles:\n",
      "       default - Default style for timbermafia.\n",
      "    minimalist - Display only the time and message, good for verbose log messages.\n",
      "       compact - Give lots of log record information in a small space.\n",
      "          boxy - A detailed, boxy looking output fit to the terminal.\n",
      "         plain - A style emulating vanilla logging.\n"
     ]
    }
   ],
   "source": [
    "tm.print_styles()"
   ]
  },
  {
   "cell_type": "markdown",
   "metadata": {},
   "source": [
    "Now let's print out some example output with each style.\n",
    "\n",
    "Note that the \"plain\" style does not leverage many of the timbermafia features, which can be \n",
    "\n",
    "useful in configuring a custom style from a very bare-bones preset (see later), or just comparing\n",
    "\n",
    "how more simple logging solutions perform."
   ]
  },
  {
   "cell_type": "code",
   "execution_count": 3,
   "metadata": {},
   "outputs": [
    {
     "name": "stdout",
     "output_type": "stream",
     "text": [
      "- Using style: default\n",
      "\n",
      "\u001b[38;5;255m\u001b[0m\u001b[38;5;255m\u001b[4m02:38:36\u001b[0m\u001b[38;5;255m |     INFO |  mylog.print_samples >> \u001b[0m\u001b[38;5;255m\u001b[38;5;231mINFO level output looks like this.\u001b[0m\u001b[38;5;255m                    \u001b[0m\n",
      "\u001b[38;5;33m\u001b[0m\u001b[38;5;33m\u001b[4m02:38:36\u001b[0m\u001b[38;5;33m |    DEBUG |  mylog.print_samples >> \u001b[0m\u001b[38;5;33m\u001b[38;5;231mDEBUG level output looks like this.\u001b[0m\u001b[38;5;33m                   \u001b[0m\n",
      "\u001b[38;5;214m\u001b[0m\u001b[38;5;214m\u001b[4m02:38:36\u001b[0m\u001b[38;5;214m |  WARNING |  mylog.print_samples >> \u001b[0m\u001b[38;5;214m\u001b[38;5;231mWARNING level output looks like this.\u001b[0m\u001b[38;5;214m                 \u001b[0m\n",
      "\u001b[38;5;196m\u001b[1m\u001b[0m\u001b[38;5;196m\u001b[1m\u001b[4m02:38:36\u001b[0m\u001b[38;5;196m\u001b[1m |    ERROR |  mylog.print_samples >> \u001b[0m\u001b[38;5;196m\u001b[1m\u001b[38;5;231mERROR level output looks like this.\u001b[0m\u001b[38;5;196m\u001b[1m                   \u001b[0m\n",
      "\u001b[38;5;40m\u001b[48;5;52m\u001b[1m\u001b[0m\u001b[38;5;40m\u001b[48;5;52m\u001b[1m\u001b[4m02:38:36\u001b[0m\u001b[38;5;40m\u001b[48;5;52m\u001b[1m | CRITICAL |  mylog.print_samples >> \u001b[0m\u001b[38;5;40m\u001b[48;5;52m\u001b[1m\u001b[38;5;231mCRITICAL level output looks like this.\u001b[0m\u001b[38;5;40m\u001b[48;5;52m\u001b[1m                \u001b[0m\n",
      "\u001b[38;5;255m\u001b[0m\u001b[38;5;255m\u001b[4m02:38:36\u001b[0m\u001b[38;5;255m |     INFO |  mylog.print_samples >> \u001b[0m\u001b[38;5;255m\u001b[38;5;231mHere is a very long message that probably will not fit\u001b[0m\u001b[38;5;255m\u001b[0m\n",
      "\u001b[38;5;255m                                           >> \u001b[0m\u001b[38;5;255m\u001b[38;5;231mon a single line. We will use it to demonstrate what\u001b[0m\u001b[38;5;255m  \u001b[0m\n",
      "\u001b[38;5;255m                                           >> \u001b[0m\u001b[38;5;255m\u001b[38;5;231mmulti-line output looks like in each style.\u001b[0m\u001b[38;5;255m           \u001b[0m\n",
      "\u001b[38;5;255m\u001b[0m\u001b[38;5;255m\u001b[4m02:38:36\u001b[0m\u001b[38;5;255m |     INFO |     SomeClass.status >> \u001b[0m\u001b[38;5;255m\u001b[38;5;231mSome output from method \"status\" in class \"SomeClass\".\u001b[0m\u001b[38;5;255m\u001b[0m\n",
      "\u001b[38;5;255m\u001b[0m\u001b[38;5;255m\u001b[4m02:38:36\u001b[0m\u001b[38;5;255m |     INFO | …very_very_long_name >> \u001b[0m\u001b[38;5;255m\u001b[38;5;231mOutput from a function with a long name to demonstrate\u001b[0m\u001b[38;5;255m\u001b[0m\n",
      "\u001b[38;5;255m                                           >> \u001b[0m\u001b[38;5;255m\u001b[38;5;231mtruncation or multiline, depending on the style.\u001b[0m\u001b[38;5;255m      \u001b[0m\n",
      "\n",
      "****************************************************************************************************\n",
      "- Using style: minimalist\n",
      "\n",
      "\u001b[38;5;255m02:38:36 | INFO level output looks like this.                                   \u001b[0m\n",
      "\u001b[38;5;33m02:38:36 | DEBUG level output looks like this.                                  \u001b[0m\n",
      "\u001b[38;5;214m02:38:36 | WARNING level output looks like this.                                \u001b[0m\n",
      "\u001b[38;5;196m\u001b[1m02:38:36 | ERROR level output looks like this.                                  \u001b[0m\n",
      "\u001b[38;5;40m\u001b[48;5;52m\u001b[1m02:38:36 | CRITICAL level output looks like this.                               \u001b[0m\n",
      "\u001b[38;5;255m02:38:36 | Here is a very long message that probably will not fit on a single   \u001b[0m\n",
      "\u001b[38;5;255m           line. We will use it to demonstrate what multi-line output looks like\u001b[0m\n",
      "\u001b[38;5;255m           in each style.                                                       \u001b[0m\n",
      "\u001b[38;5;255m02:38:36 | Some output from method \"status\" in class \"SomeClass\".               \u001b[0m\n",
      "\u001b[38;5;255m02:38:36 | Output from a function with a long name to demonstrate truncation or \u001b[0m\n",
      "\u001b[38;5;255m           multiline, depending on the style.                                   \u001b[0m\n",
      "\n",
      "****************************************************************************************************\n",
      "- Using style: compact\n",
      "\n",
      "\u001b[38;5;255m02:38:36  I     mylog.print_samples  \u001b[0m\u001b[38;5;255m\u001b[38;5;231mINFO level output looks like this.\u001b[0m\u001b[38;5;255m                             \u001b[0m\n",
      "\u001b[38;5;33m02:38:36  D     mylog.print_samples  \u001b[0m\u001b[38;5;33m\u001b[38;5;231mDEBUG level output looks like this.\u001b[0m\u001b[38;5;33m                            \u001b[0m\n",
      "\u001b[38;5;214m02:38:36  W     mylog.print_samples  \u001b[0m\u001b[38;5;214m\u001b[38;5;231mWARNING level output looks like this.\u001b[0m\u001b[38;5;214m                          \u001b[0m\n",
      "\u001b[38;5;196m\u001b[1m02:38:36  E     mylog.print_samples  \u001b[0m\u001b[38;5;196m\u001b[1m\u001b[38;5;231mERROR level output looks like this.\u001b[0m\u001b[38;5;196m\u001b[1m                            \u001b[0m\n",
      "\u001b[38;5;40m\u001b[48;5;52m\u001b[1m02:38:36  C     mylog.print_samples  \u001b[0m\u001b[38;5;40m\u001b[48;5;52m\u001b[1m\u001b[38;5;231mCRITICAL level output looks like this.\u001b[0m\u001b[38;5;40m\u001b[48;5;52m\u001b[1m                         \u001b[0m\n",
      "\u001b[38;5;255m02:38:36  I     mylog.print_samples  \u001b[0m\u001b[38;5;255m\u001b[38;5;231mHere is a very long message that probably will not fit on a\u001b[0m\u001b[38;5;255m    \u001b[0m\n",
      "\u001b[38;5;255m                                     \u001b[0m\u001b[38;5;255m\u001b[38;5;231msingle line. We will use it to demonstrate what multi-line\u001b[0m\u001b[38;5;255m     \u001b[0m\n",
      "\u001b[38;5;255m                                     \u001b[0m\u001b[38;5;255m\u001b[38;5;231moutput looks like in each style.\u001b[0m\u001b[38;5;255m                               \u001b[0m\n",
      "\u001b[38;5;255m02:38:36  I        SomeClass.status  \u001b[0m\u001b[38;5;255m\u001b[38;5;231mSome output from method \"status\" in class \"SomeClass\".\u001b[0m\u001b[38;5;255m         \u001b[0m\n",
      "\u001b[38;5;255m02:38:36  I  …a_very_very_long_name  \u001b[0m\u001b[38;5;255m\u001b[38;5;231mOutput from a function with a long name to demonstrate\u001b[0m\u001b[38;5;255m         \u001b[0m\n",
      "\u001b[38;5;255m                                     \u001b[0m\u001b[38;5;255m\u001b[38;5;231mtruncation or multiline, depending on the style.\u001b[0m\u001b[38;5;255m               \u001b[0m\n",
      "\n",
      "****************************************************************************************************\n",
      "- Using style: boxy\n",
      "\n",
      "\u001b[38;5;255m| \u001b[0m\u001b[38;5;255m\u001b[4m02:38:36\u001b[0m\u001b[38;5;255m  I |       mylog |   print_samples | \u001b[0m\u001b[38;5;255m\u001b[38;5;231mINFO level output looks like this.\u001b[0m\u001b[38;5;255m                 |\u001b[0m\n",
      "\u001b[38;5;33m| \u001b[0m\u001b[38;5;33m\u001b[4m02:38:36\u001b[0m\u001b[38;5;33m  D |       mylog |   print_samples | \u001b[0m\u001b[38;5;33m\u001b[38;5;231mDEBUG level output looks like this.\u001b[0m\u001b[38;5;33m                |\u001b[0m\n",
      "\u001b[38;5;214m| \u001b[0m\u001b[38;5;214m\u001b[4m02:38:36\u001b[0m\u001b[38;5;214m  W |       mylog |   print_samples | \u001b[0m\u001b[38;5;214m\u001b[38;5;231mWARNING level output looks like this.\u001b[0m\u001b[38;5;214m              |\u001b[0m\n",
      "\u001b[38;5;196m\u001b[1m| \u001b[0m\u001b[38;5;196m\u001b[1m\u001b[4m02:38:36\u001b[0m\u001b[38;5;196m\u001b[1m  E |       mylog |   print_samples | \u001b[0m\u001b[38;5;196m\u001b[1m\u001b[38;5;231mERROR level output looks like this.\u001b[0m\u001b[38;5;196m\u001b[1m                |\u001b[0m\n",
      "\u001b[38;5;40m\u001b[48;5;52m\u001b[1m| \u001b[0m\u001b[38;5;40m\u001b[48;5;52m\u001b[1m\u001b[4m02:38:36\u001b[0m\u001b[38;5;40m\u001b[48;5;52m\u001b[1m  C |       mylog |   print_samples | \u001b[0m\u001b[38;5;40m\u001b[48;5;52m\u001b[1m\u001b[38;5;231mCRITICAL level output looks like this.\u001b[0m\u001b[38;5;40m\u001b[48;5;52m\u001b[1m             |\u001b[0m\n",
      "\u001b[38;5;255m| \u001b[0m\u001b[38;5;255m\u001b[4m02:38:36\u001b[0m\u001b[38;5;255m  I |       mylog |   print_samples | \u001b[0m\u001b[38;5;255m\u001b[38;5;231mHere is a very long message that probably will not\u001b[0m\u001b[38;5;255m |\u001b[0m\n",
      "\u001b[38;5;255m|             |             |                 | \u001b[0m\u001b[38;5;255m\u001b[38;5;231mfit on a single line. We will use it to\u001b[0m\u001b[38;5;255m            |\u001b[0m\n",
      "\u001b[38;5;255m|             |             |                 | \u001b[0m\u001b[38;5;255m\u001b[38;5;231mdemonstrate what multi-line output looks like in\u001b[0m\u001b[38;5;255m   |\u001b[0m\n",
      "\u001b[38;5;255m|             |             |                 | \u001b[0m\u001b[38;5;255m\u001b[38;5;231meach style.\u001b[0m\u001b[38;5;255m                                        |\u001b[0m\n",
      "\u001b[38;5;255m| \u001b[0m\u001b[38;5;255m\u001b[4m02:38:36\u001b[0m\u001b[38;5;255m  I |   SomeClass |          status | \u001b[0m\u001b[38;5;255m\u001b[38;5;231mSome output from method \"status\" in class\u001b[0m\u001b[38;5;255m          |\u001b[0m\n",
      "\u001b[38;5;255m|             |             |                 | \u001b[0m\u001b[38;5;255m\u001b[38;5;231m\"SomeClass\".\u001b[0m\u001b[38;5;255m                                       |\u001b[0m\n",
      "\u001b[38;5;255m| \u001b[0m\u001b[38;5;255m\u001b[4m02:38:36\u001b[0m\u001b[38;5;255m  I |   SomeClass | method_with_a_v | \u001b[0m\u001b[38;5;255m\u001b[38;5;231mOutput from a function with a long name to\u001b[0m\u001b[38;5;255m         |\u001b[0m\n",
      "\u001b[38;5;255m|             |             | ery_very_long_n | \u001b[0m\u001b[38;5;255m\u001b[38;5;231mdemonstrate truncation or multiline, depending on\u001b[0m\u001b[38;5;255m  |\u001b[0m\n",
      "\u001b[38;5;255m|             |             |             ame | \u001b[0m\u001b[38;5;255m\u001b[38;5;231mthe style.\u001b[0m\u001b[38;5;255m                                         |\u001b[0m\n",
      "\n",
      "****************************************************************************************************\n",
      "- Using style: plain\n",
      "\n",
      "02:38:36 mylog > INFO level output looks like this.                                                 \n",
      "02:38:36 mylog > DEBUG level output looks like this.                                                \n"
     ]
    },
    {
     "name": "stdout",
     "output_type": "stream",
     "text": [
      "02:38:36 mylog > WARNING level output looks like this.                                              \n",
      "02:38:36 mylog > ERROR level output looks like this.                                                \n",
      "02:38:36 mylog > CRITICAL level output looks like this.                                             \n",
      "02:38:36 mylog > Here is a very long message that probably will not fit on a single line. We will   \n",
      "use it to demonstrate what multi-line output looks like in each style.                              \n",
      "02:38:36 SomeClass > Some output from method \"status\" in class \"SomeClass\".                         \n",
      "02:38:36 SomeClass > Output from a function with a long name to demonstrate truncation or multiline,\n",
      "depending on the style.                                                                             \n",
      "\n",
      "****************************************************************************************************\n"
     ]
    }
   ],
   "source": [
    "long_message = ('Here is a very long message that probably will not fit on a single line. We will use '\n",
    "                'it to demonstrate what multi-line output looks like in each style.')\n",
    "                \n",
    "def print_samples():\n",
    "    log.info('INFO level output looks like this.')\n",
    "    log.debug('DEBUG level output looks like this.')\n",
    "    log.warning('WARNING level output looks like this.')\n",
    "    log.error('ERROR level output looks like this.')\n",
    "    log.fatal('CRITICAL level output looks like this.')\n",
    "    log.info(long_message)\n",
    "    \n",
    "class SomeClass(tm.Logged):\n",
    "    \"\"\"A class to demonstrate logging from mixin loggers, which provide context\n",
    "    on what class and method called the output.\"\"\"\n",
    "    def status(self):\n",
    "        self.log.info('Some output from method \"status\" in class \"SomeClass\".')\n",
    "    def method_with_a_very_very_long_name(self):\n",
    "        self.log.info('Output from a function with a long name to demonstrate truncation' \n",
    "                      ' or multiline, depending on the style.')\n",
    "\n",
    "s = SomeClass()\n",
    "def demo():\n",
    "    print_samples()\n",
    "    s.status()\n",
    "    s.method_with_a_very_very_long_name()\n",
    "        \n",
    "# Iterate over each style, configure timbermafia with that style, and print output.\n",
    "for my_style in tm.styles.style_map:\n",
    "    print(f'- Using style: {my_style}\\n')\n",
    "    # Clear the configured handlers each time, and disable fit_to_terminal in each style\n",
    "    # because Jupyter notebooks don't work well with this feature.\n",
    "    tm.basic_config(style=my_style, clear=True, silent=True, fit_to_terminal=False)\n",
    "    demo()\n",
    "    print()\n",
    "    print('*'*100)"
   ]
  },
  {
   "cell_type": "markdown",
   "metadata": {},
   "source": [
    "## Palettes\n",
    "\n",
    "timbermafia includes a variety of colour palettes for each log level. This can be\n",
    "\n",
    "useful in reducing log clutter in Streams, where the levelname would otherwise take up room."
   ]
  },
  {
   "cell_type": "code",
   "execution_count": 4,
   "metadata": {},
   "outputs": [
    {
     "name": "stdout",
     "output_type": "stream",
     "text": [
      "- Using palette: sensible\n",
      "\n",
      "\u001b[38;5;255m\u001b[0m\u001b[38;5;255m\u001b[4m02:38:36\u001b[0m\u001b[38;5;255m |     INFO |  mylog.print_samples >> \u001b[0m\u001b[38;5;255m\u001b[38;5;231mINFO level output looks like this.\u001b[0m\u001b[38;5;255m                    \u001b[0m\n",
      "\u001b[38;5;33m\u001b[0m\u001b[38;5;33m\u001b[4m02:38:36\u001b[0m\u001b[38;5;33m |    DEBUG |  mylog.print_samples >> \u001b[0m\u001b[38;5;33m\u001b[38;5;231mDEBUG level output looks like this.\u001b[0m\u001b[38;5;33m                   \u001b[0m\n",
      "\u001b[38;5;214m\u001b[0m\u001b[38;5;214m\u001b[4m02:38:36\u001b[0m\u001b[38;5;214m |  WARNING |  mylog.print_samples >> \u001b[0m\u001b[38;5;214m\u001b[38;5;231mWARNING level output looks like this.\u001b[0m\u001b[38;5;214m                 \u001b[0m\n",
      "\u001b[38;5;196m\u001b[1m\u001b[0m\u001b[38;5;196m\u001b[1m\u001b[4m02:38:36\u001b[0m\u001b[38;5;196m\u001b[1m |    ERROR |  mylog.print_samples >> \u001b[0m\u001b[38;5;196m\u001b[1m\u001b[38;5;231mERROR level output looks like this.\u001b[0m\u001b[38;5;196m\u001b[1m                   \u001b[0m\n",
      "\u001b[38;5;40m\u001b[48;5;52m\u001b[1m\u001b[0m\u001b[38;5;40m\u001b[48;5;52m\u001b[1m\u001b[4m02:38:36\u001b[0m\u001b[38;5;40m\u001b[48;5;52m\u001b[1m | CRITICAL |  mylog.print_samples >> \u001b[0m\u001b[38;5;40m\u001b[48;5;52m\u001b[1m\u001b[38;5;231mCRITICAL level output looks like this.\u001b[0m\u001b[38;5;40m\u001b[48;5;52m\u001b[1m                \u001b[0m\n",
      "\u001b[38;5;255m\u001b[0m\u001b[38;5;255m\u001b[4m02:38:36\u001b[0m\u001b[38;5;255m |     INFO |  mylog.print_samples >> \u001b[0m\u001b[38;5;255m\u001b[38;5;231mHere is a very long message that probably will not fit\u001b[0m\u001b[38;5;255m\u001b[0m\n",
      "\u001b[38;5;255m                                           >> \u001b[0m\u001b[38;5;255m\u001b[38;5;231mon a single line. We will use it to demonstrate what\u001b[0m\u001b[38;5;255m  \u001b[0m\n",
      "\u001b[38;5;255m                                           >> \u001b[0m\u001b[38;5;255m\u001b[38;5;231mmulti-line output looks like in each style.\u001b[0m\u001b[38;5;255m           \u001b[0m\n",
      "\u001b[38;5;255m\u001b[0m\u001b[38;5;255m\u001b[4m02:38:36\u001b[0m\u001b[38;5;255m |     INFO |     SomeClass.status >> \u001b[0m\u001b[38;5;255m\u001b[38;5;231mSome output from method \"status\" in class \"SomeClass\".\u001b[0m\u001b[38;5;255m\u001b[0m\n",
      "\u001b[38;5;255m\u001b[0m\u001b[38;5;255m\u001b[4m02:38:36\u001b[0m\u001b[38;5;255m |     INFO | …very_very_long_name >> \u001b[0m\u001b[38;5;255m\u001b[38;5;231mOutput from a function with a long name to demonstrate\u001b[0m\u001b[38;5;255m\u001b[0m\n",
      "\u001b[38;5;255m                                           >> \u001b[0m\u001b[38;5;255m\u001b[38;5;231mtruncation or multiline, depending on the style.\u001b[0m\u001b[38;5;255m      \u001b[0m\n",
      "\n",
      "****************************************************************************************************\n",
      "- Using palette: sensible_light\n",
      "\n",
      "\u001b[38;5;232m\u001b[0m\u001b[38;5;232m\u001b[4m02:38:36\u001b[0m\u001b[38;5;232m |     INFO |  mylog.print_samples >> \u001b[0m\u001b[38;5;232m\u001b[38;5;231mINFO level output looks like this.\u001b[0m\u001b[38;5;232m                    \u001b[0m\n",
      "\u001b[38;5;18m\u001b[0m\u001b[38;5;18m\u001b[4m02:38:36\u001b[0m\u001b[38;5;18m |    DEBUG |  mylog.print_samples >> \u001b[0m\u001b[38;5;18m\u001b[38;5;231mDEBUG level output looks like this.\u001b[0m\u001b[38;5;18m                   \u001b[0m\n",
      "\u001b[38;5;130m\u001b[0m\u001b[38;5;130m\u001b[4m02:38:36\u001b[0m\u001b[38;5;130m |  WARNING |  mylog.print_samples >> \u001b[0m\u001b[38;5;130m\u001b[38;5;231mWARNING level output looks like this.\u001b[0m\u001b[38;5;130m                 \u001b[0m\n",
      "\u001b[38;5;196m\u001b[1m\u001b[0m\u001b[38;5;196m\u001b[1m\u001b[4m02:38:36\u001b[0m\u001b[38;5;196m\u001b[1m |    ERROR |  mylog.print_samples >> \u001b[0m\u001b[38;5;196m\u001b[1m\u001b[38;5;231mERROR level output looks like this.\u001b[0m\u001b[38;5;196m\u001b[1m                   \u001b[0m\n",
      "\u001b[38;5;40m\u001b[48;5;52m\u001b[1m\u001b[0m\u001b[38;5;40m\u001b[48;5;52m\u001b[1m\u001b[4m02:38:36\u001b[0m\u001b[38;5;40m\u001b[48;5;52m\u001b[1m | CRITICAL |  mylog.print_samples >> \u001b[0m\u001b[38;5;40m\u001b[48;5;52m\u001b[1m\u001b[38;5;231mCRITICAL level output looks like this.\u001b[0m\u001b[38;5;40m\u001b[48;5;52m\u001b[1m                \u001b[0m\n",
      "\u001b[38;5;232m\u001b[0m\u001b[38;5;232m\u001b[4m02:38:36\u001b[0m\u001b[38;5;232m |     INFO |  mylog.print_samples >> \u001b[0m\u001b[38;5;232m\u001b[38;5;231mHere is a very long message that probably will not fit\u001b[0m\u001b[38;5;232m\u001b[0m\n",
      "\u001b[38;5;232m                                           >> \u001b[0m\u001b[38;5;232m\u001b[38;5;231mon a single line. We will use it to demonstrate what\u001b[0m\u001b[38;5;232m  \u001b[0m\n",
      "\u001b[38;5;232m                                           >> \u001b[0m\u001b[38;5;232m\u001b[38;5;231mmulti-line output looks like in each style.\u001b[0m\u001b[38;5;232m           \u001b[0m\n",
      "\u001b[38;5;232m\u001b[0m\u001b[38;5;232m\u001b[4m02:38:36\u001b[0m\u001b[38;5;232m |     INFO |     SomeClass.status >> \u001b[0m\u001b[38;5;232m\u001b[38;5;231mSome output from method \"status\" in class \"SomeClass\".\u001b[0m\u001b[38;5;232m\u001b[0m\n",
      "\u001b[38;5;232m\u001b[0m\u001b[38;5;232m\u001b[4m02:38:36\u001b[0m\u001b[38;5;232m |     INFO | …very_very_long_name >> \u001b[0m\u001b[38;5;232m\u001b[38;5;231mOutput from a function with a long name to demonstrate\u001b[0m\u001b[38;5;232m\u001b[0m\n",
      "\u001b[38;5;232m                                           >> \u001b[0m\u001b[38;5;232m\u001b[38;5;231mtruncation or multiline, depending on the style.\u001b[0m\u001b[38;5;232m      \u001b[0m\n",
      "\n",
      "****************************************************************************************************\n",
      "- Using palette: forest\n",
      "\n",
      "\u001b[38;5;34m\u001b[0m\u001b[38;5;34m\u001b[4m02:38:36\u001b[0m\u001b[38;5;34m |     INFO |  mylog.print_samples >> \u001b[0m\u001b[38;5;34m\u001b[38;5;231mINFO level output looks like this.\u001b[0m\u001b[38;5;34m                    \u001b[0m\n",
      "\u001b[38;5;22m\u001b[0m\u001b[38;5;22m\u001b[4m02:38:36\u001b[0m\u001b[38;5;22m |    DEBUG |  mylog.print_samples >> \u001b[0m\u001b[38;5;22m\u001b[38;5;231mDEBUG level output looks like this.\u001b[0m\u001b[38;5;22m                   \u001b[0m\n",
      "\u001b[38;5;202m\u001b[0m\u001b[38;5;202m\u001b[4m02:38:36\u001b[0m\u001b[38;5;202m |  WARNING |  mylog.print_samples >> \u001b[0m\u001b[38;5;202m\u001b[38;5;231mWARNING level output looks like this.\u001b[0m\u001b[38;5;202m                 \u001b[0m\n",
      "\u001b[38;5;94m\u001b[1m\u001b[0m\u001b[38;5;94m\u001b[1m\u001b[4m02:38:36\u001b[0m\u001b[38;5;94m\u001b[1m |    ERROR |  mylog.print_samples >> \u001b[0m\u001b[38;5;94m\u001b[1m\u001b[38;5;231mERROR level output looks like this.\u001b[0m\u001b[38;5;94m\u001b[1m                   \u001b[0m\n",
      "\u001b[48;5;94m\u001b[1m\u001b[0m\u001b[48;5;94m\u001b[1m\u001b[4m02:38:36\u001b[0m\u001b[48;5;94m\u001b[1m | CRITICAL |  mylog.print_samples >> \u001b[0m\u001b[48;5;94m\u001b[1m\u001b[38;5;231mCRITICAL level output looks like this.\u001b[0m\u001b[48;5;94m\u001b[1m                \u001b[0m\n",
      "\u001b[38;5;34m\u001b[0m\u001b[38;5;34m\u001b[4m02:38:36\u001b[0m\u001b[38;5;34m |     INFO |  mylog.print_samples >> \u001b[0m\u001b[38;5;34m\u001b[38;5;231mHere is a very long message that probably will not fit\u001b[0m\u001b[38;5;34m\u001b[0m\n",
      "\u001b[38;5;34m                                           >> \u001b[0m\u001b[38;5;34m\u001b[38;5;231mon a single line. We will use it to demonstrate what\u001b[0m\u001b[38;5;34m  \u001b[0m\n",
      "\u001b[38;5;34m                                           >> \u001b[0m\u001b[38;5;34m\u001b[38;5;231mmulti-line output looks like in each style.\u001b[0m\u001b[38;5;34m           \u001b[0m\n",
      "\u001b[38;5;34m\u001b[0m\u001b[38;5;34m\u001b[4m02:38:36\u001b[0m\u001b[38;5;34m |     INFO |     SomeClass.status >> \u001b[0m\u001b[38;5;34m\u001b[38;5;231mSome output from method \"status\" in class \"SomeClass\".\u001b[0m\u001b[38;5;34m\u001b[0m\n",
      "\u001b[38;5;34m\u001b[0m\u001b[38;5;34m\u001b[4m02:38:36\u001b[0m\u001b[38;5;34m |     INFO | …very_very_long_name >> \u001b[0m\u001b[38;5;34m\u001b[38;5;231mOutput from a function with a long name to demonstrate\u001b[0m\u001b[38;5;34m\u001b[0m\n",
      "\u001b[38;5;34m                                           >> \u001b[0m\u001b[38;5;34m\u001b[38;5;231mtruncation or multiline, depending on the style.\u001b[0m\u001b[38;5;34m      \u001b[0m\n",
      "\n",
      "****************************************************************************************************\n",
      "- Using palette: synth\n",
      "\n",
      "\u001b[38;5;201m\u001b[0m\u001b[38;5;201m\u001b[4m02:38:36\u001b[0m\u001b[38;5;201m |     INFO |  mylog.print_samples >> \u001b[0m\u001b[38;5;201m\u001b[38;5;231mINFO level output looks like this.\u001b[0m\u001b[38;5;201m                    \u001b[0m\n",
      "\u001b[38;5;51m\u001b[0m\u001b[38;5;51m\u001b[4m02:38:36\u001b[0m\u001b[38;5;51m |    DEBUG |  mylog.print_samples >> \u001b[0m\u001b[38;5;51m\u001b[38;5;231mDEBUG level output looks like this.\u001b[0m\u001b[38;5;51m                   \u001b[0m\n",
      "\u001b[38;5;225m\u001b[0m\u001b[38;5;225m\u001b[4m02:38:36\u001b[0m\u001b[38;5;225m |  WARNING |  mylog.print_samples >> \u001b[0m\u001b[38;5;225m\u001b[38;5;231mWARNING level output looks like this.\u001b[0m\u001b[38;5;225m                 \u001b[0m\n",
      "\u001b[38;5;213m\u001b[1m\u001b[0m\u001b[38;5;213m\u001b[1m\u001b[4m02:38:36\u001b[0m\u001b[38;5;213m\u001b[1m |    ERROR |  mylog.print_samples >> \u001b[0m\u001b[38;5;213m\u001b[1m\u001b[38;5;231mERROR level output looks like this.\u001b[0m\u001b[38;5;213m\u001b[1m                   \u001b[0m\n",
      "\u001b[38;5;44m\u001b[48;5;57m\u001b[1m\u001b[0m\u001b[38;5;44m\u001b[48;5;57m\u001b[1m\u001b[4m02:38:36\u001b[0m\u001b[38;5;44m\u001b[48;5;57m\u001b[1m | CRITICAL |  mylog.print_samples >> \u001b[0m\u001b[38;5;44m\u001b[48;5;57m\u001b[1m\u001b[38;5;231mCRITICAL level output looks like this.\u001b[0m\u001b[38;5;44m\u001b[48;5;57m\u001b[1m                \u001b[0m\n",
      "\u001b[38;5;201m\u001b[0m\u001b[38;5;201m\u001b[4m02:38:36\u001b[0m\u001b[38;5;201m |     INFO |  mylog.print_samples >> \u001b[0m\u001b[38;5;201m\u001b[38;5;231mHere is a very long message that probably will not fit\u001b[0m\u001b[38;5;201m\u001b[0m\n",
      "\u001b[38;5;201m                                           >> \u001b[0m\u001b[38;5;201m\u001b[38;5;231mon a single line. We will use it to demonstrate what\u001b[0m\u001b[38;5;201m  \u001b[0m\n",
      "\u001b[38;5;201m                                           >> \u001b[0m\u001b[38;5;201m\u001b[38;5;231mmulti-line output looks like in each style.\u001b[0m\u001b[38;5;201m           \u001b[0m\n",
      "\u001b[38;5;201m\u001b[0m\u001b[38;5;201m\u001b[4m02:38:36\u001b[0m\u001b[38;5;201m |     INFO |     SomeClass.status >> \u001b[0m\u001b[38;5;201m\u001b[38;5;231mSome output from method \"status\" in class \"SomeClass\".\u001b[0m\u001b[38;5;201m\u001b[0m\n"
     ]
    },
    {
     "name": "stdout",
     "output_type": "stream",
     "text": [
      "\u001b[38;5;201m\u001b[0m\u001b[38;5;201m\u001b[4m02:38:36\u001b[0m\u001b[38;5;201m |     INFO | …very_very_long_name >> \u001b[0m\u001b[38;5;201m\u001b[38;5;231mOutput from a function with a long name to demonstrate\u001b[0m\u001b[38;5;201m\u001b[0m\n",
      "\u001b[38;5;201m                                           >> \u001b[0m\u001b[38;5;201m\u001b[38;5;231mtruncation or multiline, depending on the style.\u001b[0m\u001b[38;5;201m      \u001b[0m\n",
      "\n",
      "****************************************************************************************************\n",
      "- Using palette: ocean\n",
      "\n",
      "\u001b[38;5;45m\u001b[0m\u001b[38;5;45m\u001b[4m02:38:36\u001b[0m\u001b[38;5;45m |     INFO |  mylog.print_samples >> \u001b[0m\u001b[38;5;45m\u001b[38;5;231mINFO level output looks like this.\u001b[0m\u001b[38;5;45m                    \u001b[0m\n",
      "\u001b[38;5;27m\u001b[0m\u001b[38;5;27m\u001b[4m02:38:36\u001b[0m\u001b[38;5;27m |    DEBUG |  mylog.print_samples >> \u001b[0m\u001b[38;5;27m\u001b[38;5;231mDEBUG level output looks like this.\u001b[0m\u001b[38;5;27m                   \u001b[0m\n",
      "\u001b[38;5;47m\u001b[0m\u001b[38;5;47m\u001b[4m02:38:36\u001b[0m\u001b[38;5;47m |  WARNING |  mylog.print_samples >> \u001b[0m\u001b[38;5;47m\u001b[38;5;231mWARNING level output looks like this.\u001b[0m\u001b[38;5;47m                 \u001b[0m\n",
      "\u001b[38;5;226m\u001b[1m\u001b[0m\u001b[38;5;226m\u001b[1m\u001b[4m02:38:36\u001b[0m\u001b[38;5;226m\u001b[1m |    ERROR |  mylog.print_samples >> \u001b[0m\u001b[38;5;226m\u001b[1m\u001b[38;5;231mERROR level output looks like this.\u001b[0m\u001b[38;5;226m\u001b[1m                   \u001b[0m\n",
      "\u001b[38;5;226m\u001b[48;5;18m\u001b[1m\u001b[0m\u001b[38;5;226m\u001b[48;5;18m\u001b[1m\u001b[4m02:38:36\u001b[0m\u001b[38;5;226m\u001b[48;5;18m\u001b[1m | CRITICAL |  mylog.print_samples >> \u001b[0m\u001b[38;5;226m\u001b[48;5;18m\u001b[1m\u001b[38;5;231mCRITICAL level output looks like this.\u001b[0m\u001b[38;5;226m\u001b[48;5;18m\u001b[1m                \u001b[0m\n",
      "\u001b[38;5;45m\u001b[0m\u001b[38;5;45m\u001b[4m02:38:36\u001b[0m\u001b[38;5;45m |     INFO |  mylog.print_samples >> \u001b[0m\u001b[38;5;45m\u001b[38;5;231mHere is a very long message that probably will not fit\u001b[0m\u001b[38;5;45m\u001b[0m\n",
      "\u001b[38;5;45m                                           >> \u001b[0m\u001b[38;5;45m\u001b[38;5;231mon a single line. We will use it to demonstrate what\u001b[0m\u001b[38;5;45m  \u001b[0m\n",
      "\u001b[38;5;45m                                           >> \u001b[0m\u001b[38;5;45m\u001b[38;5;231mmulti-line output looks like in each style.\u001b[0m\u001b[38;5;45m           \u001b[0m\n",
      "\u001b[38;5;45m\u001b[0m\u001b[38;5;45m\u001b[4m02:38:36\u001b[0m\u001b[38;5;45m |     INFO |     SomeClass.status >> \u001b[0m\u001b[38;5;45m\u001b[38;5;231mSome output from method \"status\" in class \"SomeClass\".\u001b[0m\u001b[38;5;45m\u001b[0m\n",
      "\u001b[38;5;45m\u001b[0m\u001b[38;5;45m\u001b[4m02:38:36\u001b[0m\u001b[38;5;45m |     INFO | …very_very_long_name >> \u001b[0m\u001b[38;5;45m\u001b[38;5;231mOutput from a function with a long name to demonstrate\u001b[0m\u001b[38;5;45m\u001b[0m\n",
      "\u001b[38;5;45m                                           >> \u001b[0m\u001b[38;5;45m\u001b[38;5;231mtruncation or multiline, depending on the style.\u001b[0m\u001b[38;5;45m      \u001b[0m\n",
      "\n",
      "****************************************************************************************************\n",
      "- Using palette: dawn\n",
      "\n",
      "\u001b[38;5;208m\u001b[0m\u001b[38;5;208m\u001b[4m02:38:36\u001b[0m\u001b[38;5;208m |     INFO |  mylog.print_samples >> \u001b[0m\u001b[38;5;208m\u001b[38;5;231mINFO level output looks like this.\u001b[0m\u001b[38;5;208m                    \u001b[0m\n",
      "\u001b[38;5;200m\u001b[0m\u001b[38;5;200m\u001b[4m02:38:36\u001b[0m\u001b[38;5;200m |    DEBUG |  mylog.print_samples >> \u001b[0m\u001b[38;5;200m\u001b[38;5;231mDEBUG level output looks like this.\u001b[0m\u001b[38;5;200m                   \u001b[0m\n",
      "\u001b[38;5;190m\u001b[0m\u001b[38;5;190m\u001b[4m02:38:36\u001b[0m\u001b[38;5;190m |  WARNING |  mylog.print_samples >> \u001b[0m\u001b[38;5;190m\u001b[38;5;231mWARNING level output looks like this.\u001b[0m\u001b[38;5;190m                 \u001b[0m\n",
      "\u001b[38;5;160m\u001b[1m\u001b[0m\u001b[38;5;160m\u001b[1m\u001b[4m02:38:36\u001b[0m\u001b[38;5;160m\u001b[1m |    ERROR |  mylog.print_samples >> \u001b[0m\u001b[38;5;160m\u001b[1m\u001b[38;5;231mERROR level output looks like this.\u001b[0m\u001b[38;5;160m\u001b[1m                   \u001b[0m\n",
      "\u001b[38;5;226m\u001b[48;5;52m\u001b[1m\u001b[0m\u001b[38;5;226m\u001b[48;5;52m\u001b[1m\u001b[4m02:38:36\u001b[0m\u001b[38;5;226m\u001b[48;5;52m\u001b[1m | CRITICAL |  mylog.print_samples >> \u001b[0m\u001b[38;5;226m\u001b[48;5;52m\u001b[1m\u001b[38;5;231mCRITICAL level output looks like this.\u001b[0m\u001b[38;5;226m\u001b[48;5;52m\u001b[1m                \u001b[0m\n",
      "\u001b[38;5;208m\u001b[0m\u001b[38;5;208m\u001b[4m02:38:36\u001b[0m\u001b[38;5;208m |     INFO |  mylog.print_samples >> \u001b[0m\u001b[38;5;208m\u001b[38;5;231mHere is a very long message that probably will not fit\u001b[0m\u001b[38;5;208m\u001b[0m\n",
      "\u001b[38;5;208m                                           >> \u001b[0m\u001b[38;5;208m\u001b[38;5;231mon a single line. We will use it to demonstrate what\u001b[0m\u001b[38;5;208m  \u001b[0m\n",
      "\u001b[38;5;208m                                           >> \u001b[0m\u001b[38;5;208m\u001b[38;5;231mmulti-line output looks like in each style.\u001b[0m\u001b[38;5;208m           \u001b[0m\n",
      "\u001b[38;5;208m\u001b[0m\u001b[38;5;208m\u001b[4m02:38:36\u001b[0m\u001b[38;5;208m |     INFO |     SomeClass.status >> \u001b[0m\u001b[38;5;208m\u001b[38;5;231mSome output from method \"status\" in class \"SomeClass\".\u001b[0m\u001b[38;5;208m\u001b[0m\n",
      "\u001b[38;5;208m\u001b[0m\u001b[38;5;208m\u001b[4m02:38:36\u001b[0m\u001b[38;5;208m |     INFO | …very_very_long_name >> \u001b[0m\u001b[38;5;208m\u001b[38;5;231mOutput from a function with a long name to demonstrate\u001b[0m\u001b[38;5;208m\u001b[0m\n",
      "\u001b[38;5;208m                                           >> \u001b[0m\u001b[38;5;208m\u001b[38;5;231mtruncation or multiline, depending on the style.\u001b[0m\u001b[38;5;208m      \u001b[0m\n",
      "\n",
      "****************************************************************************************************\n"
     ]
    }
   ],
   "source": [
    "for my_palette in tm.palettes.palette_map:\n",
    "    print(f'- Using palette: {my_palette}\\n')\n",
    "    tm.basic_config(palette=my_palette, clear=True, silent=True, fit_to_terminal=False)\n",
    "    demo()\n",
    "    print()\n",
    "    print('*'*100)"
   ]
  },
  {
   "cell_type": "markdown",
   "metadata": {},
   "source": [
    "As can be seen, the white or black texts enforced in the message formats don't always go\n",
    "\n",
    "well with each palette. For this reason you can supply your own format easily and\n",
    "\n",
    "experiment with colours or formatting for each component, or remove them entirely.\n",
    "\n",
    "## Creating a custom style\n",
    "\n",
    "A Style object configured with any preset can be generated and altered as follows."
   ]
  },
  {
   "cell_type": "code",
   "execution_count": 5,
   "metadata": {},
   "outputs": [
    {
     "name": "stdout",
     "output_type": "stream",
     "text": [
      "- Current settings for style:\n",
      "             format: {asctime} {name} > {message}\n",
      "            datefmt: %H:%M:%S\n",
      "            justify:\n",
      "                      default: left\n",
      "    padding_weights:\n",
      "                      default: 1.0\n",
      "                      message: 6.0\n",
      "\n",
      "    truncate_fields: \n",
      "   truncation_chars: …\n",
      "    fit_to_terminal: True\n",
      "              width: 100\n",
      "          max_width: 200\n",
      "      column_escape: _\n",
      "       clean_output: True\n",
      "  colourised_levels: False\n",
      "       short_levels: False\n",
      "        description: A style emulating vanilla logging.\n",
      "**************************************************\n"
     ]
    }
   ],
   "source": [
    "my_style = tm.generate_default_style()  # my_style is now the default Style\n",
    "my_style = tm.generate_style_from_preset('plain')  # my_style is now the plain Style\n",
    "my_style.summarise()"
   ]
  },
  {
   "cell_type": "markdown",
   "metadata": {},
   "source": [
    "Let's remind ourselves of how bare-bones this config looks."
   ]
  },
  {
   "cell_type": "code",
   "execution_count": 6,
   "metadata": {},
   "outputs": [
    {
     "name": "stdout",
     "output_type": "stream",
     "text": [
      "02:38:36 mylog > INFO level output looks like this.                                                 \n",
      "02:38:36 mylog > DEBUG level output looks like this.                                                \n",
      "02:38:36 mylog > WARNING level output looks like this.                                              \n",
      "02:38:36 mylog > ERROR level output looks like this.                                                \n",
      "02:38:36 mylog > CRITICAL level output looks like this.                                             \n",
      "02:38:36 mylog > Here is a very long message that probably will not fit on a single line. We will   \n",
      "use it to demonstrate what multi-line output looks like in each style.                              \n",
      "02:38:36 SomeClass > Some output from method \"status\" in class \"SomeClass\".                         \n",
      "02:38:36 SomeClass > Output from a function with a long name to demonstrate truncation or multiline,\n",
      "depending on the style.                                                                             \n"
     ]
    }
   ],
   "source": [
    "tm.basic_config(style=my_style, clear=True, silent=True, fit_to_terminal=False)\n",
    "demo()"
   ]
  },
  {
   "cell_type": "markdown",
   "metadata": {},
   "source": [
    "The Style class has a number of tweakable properties to change how output looks.\n",
    "\n",
    "Let's imagine a threaded application where the thread name is of interest in the output.\n",
    "\n",
    "This application is also OO-heavy, and it is useful to know from which class and \n",
    "\n",
    "method a given message is coming from.\n",
    "\n",
    "Now let's tweak our new style."
   ]
  },
  {
   "cell_type": "code",
   "execution_count": 7,
   "metadata": {},
   "outputs": [
    {
     "name": "stdout",
     "output_type": "stream",
     "text": [
      "- Current settings for style:\n",
      "             format: {asctime:u} _ {levelname} _| {threadName} _| {name}.{funcName} __>> {message:b,>36}\n",
      "            datefmt: %H:%M:%S\n",
      "            justify:\n",
      "                      default: right\n",
      "                      message: left\n",
      "    padding_weights:\n",
      "                      default: 1.0\n",
      "                      message: 6.0\n",
      "\n",
      "    truncate_fields: funcName,threadName\n",
      "   truncation_chars: …\n",
      "    fit_to_terminal: False\n",
      "              width: 100\n",
      "          max_width: 200\n",
      "      column_escape: _\n",
      "       clean_output: True\n",
      "  colourised_levels: True\n",
      "       short_levels: False\n",
      "        description: A style emulating vanilla logging.\n",
      "**************************************************\n"
     ]
    }
   ],
   "source": [
    "# Let's change the format to include threads and function names.\n",
    "# We'll underline the time to emphasise the start of a new record.\n",
    "# We'll also make the message a bold, bright green.\n",
    "my_style.format = '{asctime:u} _ {levelname} _| {threadName} _| {name}.{funcName} __>> {message:b,>36}'\n",
    "\n",
    "# Now let's change the justifiction so that the default is right, and have the message\n",
    "# be left justified to create a visual focal point in the log output.\n",
    "my_style.default_justification = 'r'  # 'right' or str.rjust work here too\n",
    "my_style.set_justification('message', 'l')\n",
    "\n",
    "# We want a tidy output, so we will truncate the funcName and threadName if they get \n",
    "# too long to display in the allotted width. \n",
    "# Note that this also affects the log name, as it is in the same column as the funcName.\n",
    "my_style.truncate_field('funcName')\n",
    "my_style.truncate_field('threadName')\n",
    "\n",
    "# We're working in Jupyter, so let's turn off the fit_to_terminal option.\n",
    "my_style.fit_to_terminal = False\n",
    "\n",
    "# Enable colourised output based on log levels\n",
    "my_style.colourised_levels = True\n",
    "\n",
    "# Now check our changes are registered.\n",
    "my_style.summarise()"
   ]
  },
  {
   "cell_type": "markdown",
   "metadata": {},
   "source": [
    "Our changes have been registered.\n",
    "\n",
    "And let's configure it, and try it out with the synth palette."
   ]
  },
  {
   "cell_type": "code",
   "execution_count": 8,
   "metadata": {},
   "outputs": [
    {
     "name": "stdout",
     "output_type": "stream",
     "text": [
      "\u001b[38;5;201m\u001b[0m\u001b[38;5;201m\u001b[4m02:38:36\u001b[0m\u001b[38;5;201m      INFO | …nThread | …g.print_samples >> \u001b[0m\u001b[38;5;201m\u001b[38;5;36m\u001b[1mINFO level output looks like this.\u001b[0m\u001b[38;5;201m              \u001b[0m\n",
      "\u001b[38;5;51m\u001b[0m\u001b[38;5;51m\u001b[4m02:38:36\u001b[0m\u001b[38;5;51m     DEBUG | …nThread | …g.print_samples >> \u001b[0m\u001b[38;5;51m\u001b[38;5;36m\u001b[1mDEBUG level output looks like this.\u001b[0m\u001b[38;5;51m             \u001b[0m\n",
      "\u001b[38;5;225m\u001b[0m\u001b[38;5;225m\u001b[4m02:38:36\u001b[0m\u001b[38;5;225m   WARNING | …nThread | …g.print_samples >> \u001b[0m\u001b[38;5;225m\u001b[38;5;36m\u001b[1mWARNING level output looks like this.\u001b[0m\u001b[38;5;225m           \u001b[0m\n",
      "\u001b[38;5;213m\u001b[1m\u001b[0m\u001b[38;5;213m\u001b[1m\u001b[4m02:38:36\u001b[0m\u001b[38;5;213m\u001b[1m     ERROR | …nThread | …g.print_samples >> \u001b[0m\u001b[38;5;213m\u001b[1m\u001b[38;5;36m\u001b[1mERROR level output looks like this.\u001b[0m\u001b[38;5;213m\u001b[1m             \u001b[0m\n",
      "\u001b[38;5;44m\u001b[48;5;57m\u001b[1m\u001b[0m\u001b[38;5;44m\u001b[48;5;57m\u001b[1m\u001b[4m02:38:36\u001b[0m\u001b[38;5;44m\u001b[48;5;57m\u001b[1m  CRITICAL | …nThread | …g.print_samples >> \u001b[0m\u001b[38;5;44m\u001b[48;5;57m\u001b[1m\u001b[38;5;36m\u001b[1mCRITICAL level output looks like this.\u001b[0m\u001b[38;5;44m\u001b[48;5;57m\u001b[1m          \u001b[0m\n",
      "\u001b[38;5;201m\u001b[0m\u001b[38;5;201m\u001b[4m02:38:36\u001b[0m\u001b[38;5;201m      INFO | …nThread | …g.print_samples >> \u001b[0m\u001b[38;5;201m\u001b[38;5;36m\u001b[1mHere is a very long message that probably will\u001b[0m\u001b[38;5;201m  \u001b[0m\n",
      "\u001b[38;5;201m                                                 >> \u001b[0m\u001b[38;5;201m\u001b[38;5;36m\u001b[1mnot fit on a single line. We will use it to\u001b[0m\u001b[38;5;201m     \u001b[0m\n",
      "\u001b[38;5;201m                                                 >> \u001b[0m\u001b[38;5;201m\u001b[38;5;36m\u001b[1mdemonstrate what multi-line output looks like in\u001b[0m\u001b[38;5;201m\u001b[0m\n",
      "\u001b[38;5;201m                                                 >> \u001b[0m\u001b[38;5;201m\u001b[38;5;36m\u001b[1meach style.\u001b[0m\u001b[38;5;201m                                     \u001b[0m\n",
      "\u001b[38;5;201m\u001b[0m\u001b[38;5;201m\u001b[4m02:38:36\u001b[0m\u001b[38;5;201m      INFO | …nThread | SomeClass.status >> \u001b[0m\u001b[38;5;201m\u001b[38;5;36m\u001b[1mSome output from method \"status\" in class\u001b[0m\u001b[38;5;201m       \u001b[0m\n",
      "\u001b[38;5;201m                                                 >> \u001b[0m\u001b[38;5;201m\u001b[38;5;36m\u001b[1m\"SomeClass\".\u001b[0m\u001b[38;5;201m                                    \u001b[0m\n",
      "\u001b[38;5;201m\u001b[0m\u001b[38;5;201m\u001b[4m02:38:36\u001b[0m\u001b[38;5;201m      INFO | …nThread | …_very_long_name >> \u001b[0m\u001b[38;5;201m\u001b[38;5;36m\u001b[1mOutput from a function with a long name to\u001b[0m\u001b[38;5;201m      \u001b[0m\n",
      "\u001b[38;5;201m                                                 >> \u001b[0m\u001b[38;5;201m\u001b[38;5;36m\u001b[1mdemonstrate truncation or multiline, depending\u001b[0m\u001b[38;5;201m  \u001b[0m\n",
      "\u001b[38;5;201m                                                 >> \u001b[0m\u001b[38;5;201m\u001b[38;5;36m\u001b[1mon the style.\u001b[0m\u001b[38;5;201m                                   \u001b[0m\n"
     ]
    }
   ],
   "source": [
    "tm.basic_config(style=my_style, palette='synth', silent=True, clear=True)\n",
    "demo()"
   ]
  },
  {
   "cell_type": "markdown",
   "metadata": {},
   "source": [
    "This looks ok, but there are a couple of problems. \n",
    "\n",
    "The thread name column is a little on the small side. \n",
    "\n",
    "The column for the name and funcName should have much more room.\n",
    "\n",
    "We can remedy the latter by increasing the name or funcName \n",
    "adaptive padding weight. The default is 1.0 for each field.\n",
    "\n",
    "We can also enable abbreviated log level names to help provide more space for all the output.\n",
    "\n",
    "Finally we can assign a larger total width for the output."
   ]
  },
  {
   "cell_type": "code",
   "execution_count": 9,
   "metadata": {},
   "outputs": [
    {
     "name": "stdout",
     "output_type": "stream",
     "text": [
      "\u001b[38;5;201m\u001b[0m\u001b[38;5;201m\u001b[4m02:38:36\u001b[0m\u001b[38;5;201m  I |  MainThread |      mylog.print_samples >> \u001b[0m\u001b[38;5;201m\u001b[38;5;36m\u001b[1mINFO level output looks like this.\u001b[0m\u001b[38;5;201m                              \u001b[0m\n",
      "\u001b[38;5;51m\u001b[0m\u001b[38;5;51m\u001b[4m02:38:36\u001b[0m\u001b[38;5;51m  D |  MainThread |      mylog.print_samples >> \u001b[0m\u001b[38;5;51m\u001b[38;5;36m\u001b[1mDEBUG level output looks like this.\u001b[0m\u001b[38;5;51m                             \u001b[0m\n",
      "\u001b[38;5;225m\u001b[0m\u001b[38;5;225m\u001b[4m02:38:36\u001b[0m\u001b[38;5;225m  W |  MainThread |      mylog.print_samples >> \u001b[0m\u001b[38;5;225m\u001b[38;5;36m\u001b[1mWARNING level output looks like this.\u001b[0m\u001b[38;5;225m                           \u001b[0m\n",
      "\u001b[38;5;213m\u001b[1m\u001b[0m\u001b[38;5;213m\u001b[1m\u001b[4m02:38:36\u001b[0m\u001b[38;5;213m\u001b[1m  E |  MainThread |      mylog.print_samples >> \u001b[0m\u001b[38;5;213m\u001b[1m\u001b[38;5;36m\u001b[1mERROR level output looks like this.\u001b[0m\u001b[38;5;213m\u001b[1m                             \u001b[0m\n",
      "\u001b[38;5;44m\u001b[48;5;57m\u001b[1m\u001b[0m\u001b[38;5;44m\u001b[48;5;57m\u001b[1m\u001b[4m02:38:36\u001b[0m\u001b[38;5;44m\u001b[48;5;57m\u001b[1m  C |  MainThread |      mylog.print_samples >> \u001b[0m\u001b[38;5;44m\u001b[48;5;57m\u001b[1m\u001b[38;5;36m\u001b[1mCRITICAL level output looks like this.\u001b[0m\u001b[38;5;44m\u001b[48;5;57m\u001b[1m                          \u001b[0m\n",
      "\u001b[38;5;201m\u001b[0m\u001b[38;5;201m\u001b[4m02:38:36\u001b[0m\u001b[38;5;201m  I |  MainThread |      mylog.print_samples >> \u001b[0m\u001b[38;5;201m\u001b[38;5;36m\u001b[1mHere is a very long message that probably will not fit on a\u001b[0m\u001b[38;5;201m     \u001b[0m\n",
      "\u001b[38;5;201m                                                     >> \u001b[0m\u001b[38;5;201m\u001b[38;5;36m\u001b[1msingle line. We will use it to demonstrate what multi-line\u001b[0m\u001b[38;5;201m      \u001b[0m\n",
      "\u001b[38;5;201m                                                     >> \u001b[0m\u001b[38;5;201m\u001b[38;5;36m\u001b[1moutput looks like in each style.\u001b[0m\u001b[38;5;201m                                \u001b[0m\n",
      "\u001b[38;5;201m\u001b[0m\u001b[38;5;201m\u001b[4m02:38:36\u001b[0m\u001b[38;5;201m  I |  MainThread |         SomeClass.status >> \u001b[0m\u001b[38;5;201m\u001b[38;5;36m\u001b[1mSome output from method \"status\" in class \"SomeClass\".\u001b[0m\u001b[38;5;201m          \u001b[0m\n",
      "\u001b[38;5;201m\u001b[0m\u001b[38;5;201m\u001b[4m02:38:36\u001b[0m\u001b[38;5;201m  I |  MainThread | …h_a_very_very_long_name >> \u001b[0m\u001b[38;5;201m\u001b[38;5;36m\u001b[1mOutput from a function with a long name to demonstrate\u001b[0m\u001b[38;5;201m          \u001b[0m\n",
      "\u001b[38;5;201m                                                     >> \u001b[0m\u001b[38;5;201m\u001b[38;5;36m\u001b[1mtruncation or multiline, depending on the style.\u001b[0m\u001b[38;5;201m                \u001b[0m\n"
     ]
    }
   ],
   "source": [
    "my_style.set_weight('funcName', 1.2)\n",
    "my_style.short_levels = True\n",
    "my_style.width = 120\n",
    "\n",
    "tm.basic_config(style=my_style, palette='synth', silent=True, clear=True)\n",
    "demo()"
   ]
  },
  {
   "cell_type": "markdown",
   "metadata": {},
   "source": [
    "Much better!\n",
    "\n",
    "Hopefully this shows that making your own styles and tweaking them to match your\n",
    "specific needs is easy in timbermafia.\n",
    "\n",
    "# Custom Palettes\n",
    "\n",
    "Custom palettes can be configured in a similar way.\n",
    "\n",
    "Let's generate one from the default palette, called \"sensible\""
   ]
  },
  {
   "cell_type": "code",
   "execution_count": 10,
   "metadata": {},
   "outputs": [
    {
     "name": "stdout",
     "output_type": "stream",
     "text": [
      "\u001b[0m\u001b[38;5;40m\u001b[48;5;52m\u001b[1mCRITICAL looks like this\u001b[0m\n",
      "\u001b[0m\u001b[38;5;196m\u001b[1mERROR looks like this\u001b[0m\n",
      "\u001b[0m\u001b[38;5;214mWARNING looks like this\u001b[0m\n",
      "\u001b[0m\u001b[38;5;255mINFO looks like this\u001b[0m\n",
      "\u001b[0m\u001b[38;5;33mDEBUG looks like this\u001b[0m\n",
      "\u001b[0mNOTSET looks like this\u001b[0m\n"
     ]
    }
   ],
   "source": [
    "my_palette = tm.generate_default_palette()\n",
    "my_palette.summarise()"
   ]
  },
  {
   "cell_type": "markdown",
   "metadata": {},
   "source": [
    "Now let's change some colours, make something truly awful looking.\n",
    "\n",
    "A list of all ANSI codes can be found in the top answer at the following StackExchange question:\n",
    "\n",
    "https://stackoverflow.com/questions/4842424/list-of-ansi-color-escape-sequences\n",
    "\n",
    "Note that not all terminal emulators, including the output section of Jupyter notebooks, support all\n",
    "ANSI format codes, but usually support 8-bit colour codes."
   ]
  },
  {
   "cell_type": "code",
   "execution_count": 11,
   "metadata": {},
   "outputs": [
    {
     "name": "stdout",
     "output_type": "stream",
     "text": [
      "\u001b[0m\u001b[38;5;213m\u001b[48;5;54m\u001b[2mCRITICAL looks like this\u001b[0m\n",
      "\u001b[0m\u001b[38;5;22m\u001b[48;5;211m\u001b[1mERROR looks like this\u001b[0m\n",
      "\u001b[0m\u001b[38;5;172m\u001b[48;5;195mWARNING looks like this\u001b[0m\n",
      "\u001b[0m\u001b[38;5;201m\u001b[48;5;190m\u001b[1mINFO looks like this\u001b[0m\n",
      "\u001b[0m\u001b[38;5;46m\u001b[48;5;17m\u001b[4mDEBUG looks like this\u001b[0m\n",
      "\u001b[0mNOTSET looks like this\u001b[0m\n"
     ]
    }
   ],
   "source": [
    "my_palette.set_level(logging.INFO, fg=201, bg=190, codes=1)  # Bold pink on yelow\n",
    "my_palette.set_level(logging.DEBUG, fg=46, bg=17, codes=4)  # Underlined green on dark blue\n",
    "my_palette.set_level(logging.CRITICAL, fg=213, bg=54, codes=2) # Normal lilac on dark purple\n",
    "my_palette.set_level(logging.WARNING, fg=172, bg=195) # Beige on baby blue\n",
    "my_palette.set_level(logging.ERROR, fg=22, bg=211) # Dark green on magenta\n",
    "my_palette.summarise()"
   ]
  },
  {
   "cell_type": "markdown",
   "metadata": {},
   "source": [
    "This looks suirably horrendous, let's use it with our demo function.\n",
    "\n",
    "We'll also use a format with no custom colours for log record components, and\n",
    "\n",
    "expand the date/time format to include the day of the year."
   ]
  },
  {
   "cell_type": "code",
   "execution_count": 12,
   "metadata": {},
   "outputs": [
    {
     "name": "stdout",
     "output_type": "stream",
     "text": [
      "\u001b[38;5;201m\u001b[48;5;190m\u001b[1m2020/05/10 02:38:36 |       mylog >> INFO level output looks like this.                             \u001b[0m\n",
      "\u001b[38;5;46m\u001b[48;5;17m\u001b[4m2020/05/10 02:38:36 |       mylog >> DEBUG level output looks like this.                            \u001b[0m\n",
      "\u001b[38;5;172m\u001b[48;5;195m2020/05/10 02:38:36 |       mylog >> WARNING level output looks like this.                          \u001b[0m\n",
      "\u001b[38;5;22m\u001b[48;5;211m\u001b[1m2020/05/10 02:38:36 |       mylog >> ERROR level output looks like this.                            \u001b[0m\n",
      "\u001b[38;5;213m\u001b[48;5;54m\u001b[2m2020/05/10 02:38:36 |       mylog >> CRITICAL level output looks like this.                         \u001b[0m\n",
      "\u001b[38;5;201m\u001b[48;5;190m\u001b[1m2020/05/10 02:38:36 |       mylog >> Here is a very long message that probably will not fit on a    \u001b[0m\n",
      "\u001b[38;5;201m\u001b[48;5;190m\u001b[1m                                     single line. We will use it to demonstrate what multi-line     \u001b[0m\n",
      "\u001b[38;5;201m\u001b[48;5;190m\u001b[1m                                     output looks like in each style.                               \u001b[0m\n",
      "\u001b[38;5;201m\u001b[48;5;190m\u001b[1m2020/05/10 02:38:36 |   SomeClass >> Some output from method \"status\" in class \"SomeClass\".         \u001b[0m\n",
      "\u001b[38;5;201m\u001b[48;5;190m\u001b[1m2020/05/10 02:38:36 |   SomeClass >> Output from a function with a long name to demonstrate         \u001b[0m\n",
      "\u001b[38;5;201m\u001b[48;5;190m\u001b[1m                                     truncation or multiline, depending on the style.               \u001b[0m\n"
     ]
    }
   ],
   "source": [
    "my_fmt = '{asctime} _| {name} _>> {message}'\n",
    "my_datefmt = '%Y/%m/%d %H:%M:%S'\n",
    "tm.basic_config(palette=my_palette, format=my_fmt, datefmt=my_datefmt,\n",
    "                silent=True, clear=True)\n",
    "demo()"
   ]
  },
  {
   "cell_type": "markdown",
   "metadata": {},
   "source": [
    "Truly hideous, but this should demonstrate the flexibility in timbermafia's palettes.\n",
    "\n",
    "If you make one that is particularly eye-catching, or caters to a particular type of\n",
    "\n",
    "colour-blindness especially well, please get in touch with me and it might become\n",
    "\n",
    "a preset palette."
   ]
  }
 ],
 "metadata": {
  "kernelspec": {
   "display_name": "timbermafia",
   "language": "python",
   "name": "timbermafia"
  },
  "language_info": {
   "codemirror_mode": {
    "name": "ipython",
    "version": 3
   },
   "file_extension": ".py",
   "mimetype": "text/x-python",
   "name": "python",
   "nbconvert_exporter": "python",
   "pygments_lexer": "ipython3",
   "version": "3.8.1"
  }
 },
 "nbformat": 4,
 "nbformat_minor": 2
}
